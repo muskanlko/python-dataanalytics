{
 "cells": [
  {
   "cell_type": "code",
   "execution_count": 3,
   "metadata": {},
   "outputs": [
    {
     "name": "stdout",
     "output_type": "stream",
     "text": [
      "The nature is so beautiful\n"
     ]
    }
   ],
   "source": []
  },
  {
   "cell_type": "code",
   "execution_count": null,
   "metadata": {},
   "outputs": [],
   "source": []
  },
  {
   "cell_type": "code",
   "execution_count": null,
   "metadata": {},
   "outputs": [],
   "source": [
    "#1 WAP a string to create and print.\n",
    "x=(\"The nature is so beautiful\")\n",
    "print(x)\n"
   ]
  },
  {
   "cell_type": "code",
   "execution_count": 4,
   "metadata": {},
   "outputs": [
    {
     "name": "stdout",
     "output_type": "stream",
     "text": [
      "17\n"
     ]
    }
   ],
   "source": [
    "#2 WAP program to print the string length.\n",
    "a=(\"The god is greate\")\n",
    "print(len(a))"
   ]
  },
  {
   "cell_type": "code",
   "execution_count": 9,
   "metadata": {},
   "outputs": [
    {
     "name": "stdout",
     "output_type": "stream",
     "text": [
      "greate\n"
     ]
    }
   ],
   "source": [
    "#3 WAP a program to print the lats value of the string.\n",
    "name=\"pyhton is greate\"\n",
    "print(name[-6:])\n"
   ]
  },
  {
   "cell_type": "code",
   "execution_count": 28,
   "metadata": {},
   "outputs": [
    {
     "name": "stdout",
     "output_type": "stream",
     "text": [
      "python\n",
      "is\n",
      "everywhere\n"
     ]
    }
   ],
   "source": [
    "#4 WAP a program to print the different line.\n",
    "name=\"python is everywhere\"\n",
    "print(name[0:6])\n",
    "print(name[7:9])\n",
    "print(name[-10::])"
   ]
  },
  {
   "cell_type": "code",
   "execution_count": 32,
   "metadata": {},
   "outputs": [
    {
     "name": "stdout",
     "output_type": "stream",
     "text": [
      "!dlroW olleH\n"
     ]
    }
   ],
   "source": [
    "#5 WAP aprogram to print the string reverse.\n",
    "word=\"Hello World!\"\n",
    "print(word[::-1])"
   ]
  },
  {
   "cell_type": "code",
   "execution_count": 33,
   "metadata": {},
   "outputs": [
    {
     "name": "stdout",
     "output_type": "stream",
     "text": [
      "HOW ARE YOU ?\n"
     ]
    }
   ],
   "source": [
    "#6 WAP a program to print the words in upper case.\n",
    "word=\"how are you ?\"\n",
    "print(word.upper())"
   ]
  },
  {
   "cell_type": "code",
   "execution_count": 34,
   "metadata": {},
   "outputs": [
    {
     "name": "stdout",
     "output_type": "stream",
     "text": [
      "how is it going?\n"
     ]
    }
   ],
   "source": [
    "#7 WAP a program to convert the stirng in lower case.\n",
    "word=\"How Is It Going?\"\n",
    "print(word.lower())"
   ]
  },
  {
   "cell_type": "code",
   "execution_count": 3,
   "metadata": {},
   "outputs": [
    {
     "name": "stdout",
     "output_type": "stream",
     "text": [
      "['python', 'i']\n",
      "python i\n"
     ]
    }
   ],
   "source": [
    "#8 WAP a program to join the string.\n",
    "addr=[\"python\",\"i\"]\n",
    "print(addr)\n",
    "full_addr=\" \".join(addr)\n",
    "print(full_addr)"
   ]
  },
  {
   "cell_type": "code",
   "execution_count": 5,
   "metadata": {},
   "outputs": [
    {
     "data": {
      "text/plain": [
       "['the life is so long',\n",
       " 'we can alway to learn with our',\n",
       " 'life if you are do hardwork then ',\n",
       " 'you are achieve your dreams  ']"
      ]
     },
     "execution_count": 5,
     "metadata": {},
     "output_type": "execute_result"
    }
   ],
   "source": [
    "#9 WAP to print the new line string.\n",
    "sentence='''the life is so long\n",
    "we can alway to learn with our\n",
    "life if you are do hardwork then \n",
    "you are achieve your dreams  '''\n",
    "sentence.splitlines()\n"
   ]
  },
  {
   "cell_type": "code",
   "execution_count": 11,
   "metadata": {},
   "outputs": [
    {
     "name": "stdout",
     "output_type": "stream",
     "text": [
      "\n",
      " The Gog is everywere\n"
     ]
    }
   ],
   "source": [
    "#10 WAP to print the string in the new line.\n",
    "words=\"The Gog is everywere\"\n",
    "print(\"\\n\",words)"
   ]
  },
  {
   "cell_type": "code",
   "execution_count": null,
   "metadata": {},
   "outputs": [],
   "source": []
  }
 ],
 "metadata": {
  "kernelspec": {
   "display_name": "base",
   "language": "python",
   "name": "python3"
  },
  "language_info": {
   "codemirror_mode": {
    "name": "ipython",
    "version": 3
   },
   "file_extension": ".py",
   "mimetype": "text/x-python",
   "name": "python",
   "nbconvert_exporter": "python",
   "pygments_lexer": "ipython3",
   "version": "3.12.3"
  }
 },
 "nbformat": 4,
 "nbformat_minor": 2
}
