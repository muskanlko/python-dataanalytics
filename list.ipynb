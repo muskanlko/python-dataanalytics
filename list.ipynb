{
 "cells": [
  {
   "cell_type": "markdown",
   "metadata": {},
   "source": [
    "# list\n",
    "- create\n",
    "- indexing and slicing"
   ]
  },
  {
   "cell_type": "code",
   "execution_count": 5,
   "metadata": {},
   "outputs": [
    {
     "name": "stdout",
     "output_type": "stream",
     "text": [
      "[1, 2, 3] <class 'list'>\n",
      "['alina', 'saline', 'anshika'] <class 'list'>\n",
      "['apple', 50, 'mango', 10, 'orange', 20]\n",
      "[[1, 3, 3], [4, 5, 6], [3, 6, 6]]\n",
      "[1, 1, 1, 1, 1, 1, 1, 1, 1, 1]\n",
      "['v', 'e', 'r', 't', 'e', 'x']\n",
      "['welcome', 'to', 'listing']\n"
     ]
    }
   ],
   "source": [
    "a=[1,2,3]\n",
    "print(a,type(a))\n",
    "name=[\"alina\",\"saline\",\"anshika\"]\n",
    "print(name,type(name))\n",
    "data=[\"apple\",50,\"mango\",10,\"orange\",20]\n",
    "print(data)\n",
    "nested_list=[[1,3,3],[4,5,6,],[3,6,6]]\n",
    "print(nested_list)\n",
    "duplication_list=[1]*10\n",
    "print(duplication_list)\n",
    "print(list(\"vertex\"))\n",
    "print(\"welcome to listing\".split())\n",
    "\n"
   ]
  },
  {
   "cell_type": "code",
   "execution_count": 13,
   "metadata": {},
   "outputs": [
    {
     "name": "stdout",
     "output_type": "stream",
     "text": [
      "first five= [11, 12, 13, 14, 15]\n",
      "last five= [15, 16, 17, 18, 19]\n",
      "last element= 19\n",
      "first elemnet= 11\n",
      "last five= [15, 14, 13, 12, 11]\n",
      "execpt first 2 and last 2= [13, 14, 15, 16, 17]\n",
      "all even index= [11, 13, 15, 17, 19]\n",
      "all odd indexing= [12, 14, 16, 18]\n"
     ]
    }
   ],
   "source": [
    "n=[11,12,13,14,15,16,17,18,19]\n",
    "print(\"first five=\",n[:5])\n",
    "print(\"last five=\",n[-5:])\n",
    "print(\"last element=\",n[-1])\n",
    "print(\"first elemnet=\",n[0])\n",
    "print(\"last five=\",n[-5::-1])\n",
    "print(\"execpt first 2 and last 2=\",n[2:-2])\n",
    "print(\"all even index=\",n[::2])\n",
    "print(\"all odd indexing=\",n[1::2])"
   ]
  },
  {
   "cell_type": "code",
   "execution_count": 14,
   "metadata": {},
   "outputs": [
    {
     "name": "stdout",
     "output_type": "stream",
     "text": [
      "[11, 12, 13, 14, 15, 120, 17, 18, 19]\n",
      "[300, 12, 13, 14, 15, 120, 17, 18, 19]\n"
     ]
    }
   ],
   "source": [
    "# list is mutable\n",
    "n[5]=120 #update\n",
    "print(n)\n",
    "n[0]=300\n",
    "print(n)"
   ]
  },
  {
   "cell_type": "code",
   "execution_count": 16,
   "metadata": {},
   "outputs": [
    {
     "name": "stdout",
     "output_type": "stream",
     "text": [
      "<class 'list'>\n",
      "['star wars', 'harry potter', 'inside out', 'jumanji', 'kill']\n",
      "5\n"
     ]
    }
   ],
   "source": [
    "movie=[]\n",
    "print(type(movie))\n",
    "movie.append(\"star wars\")\n",
    "movie.append(\"harry potter\")\n",
    "movie.append(\"inside out\")\n",
    "movie.append(\"jumanji\")\n",
    "movie.append(\"kill\")\n",
    "print(movie)\n",
    "print(len(movie))\n"
   ]
  },
  {
   "cell_type": "code",
   "execution_count": 20,
   "metadata": {},
   "outputs": [
    {
     "name": "stdout",
     "output_type": "stream",
     "text": [
      "['fast and furious', '2 fast and furious', '3 fast and furious', '5 fast and furious']\n",
      "['fast and furious', '2 fast and furious', '3 fast and furious', '4 fast and furious', '5 fast and furious']\n"
     ]
    }
   ],
   "source": [
    "ff=['fast and furious',\n",
    "    \"2 fast and furious\",\n",
    "    \"3 fast and furious\",\n",
    "    \"5 fast and furious\"]\n",
    "print(ff)\n",
    "ff.insert(3,\"4 fast and furious\")\n",
    "print(ff)"
   ]
  },
  {
   "cell_type": "code",
   "execution_count": 22,
   "metadata": {},
   "outputs": [
    {
     "name": "stdout",
     "output_type": "stream",
     "text": [
      "[1, 3, 4, 5, 6, 7, 8]\n",
      "[1, 2, 3, 4, 5, 6, 7, 8]\n"
     ]
    }
   ],
   "source": [
    "n=[1,3,4,5,6,7,8]\n",
    "print(n)\n",
    "n.insert(1,2)\n",
    "print(n)"
   ]
  },
  {
   "cell_type": "code",
   "execution_count": 27,
   "metadata": {},
   "outputs": [
    {
     "name": "stdout",
     "output_type": "stream",
     "text": [
      "[11, 3, 4, 9, 12, 3, 4, 5]\n",
      "[11, 3, 4, 9, 12, 3, 4, 5, 23, 4, 5, 7]\n"
     ]
    }
   ],
   "source": [
    "l1=[11,3,4,9,]\n",
    "l2=[12,3,4,5]\n",
    "l3=[23,4,5,7]\n",
    "l1.extend(l2)\n",
    "print(l1)\n",
    "l1.extend(l3)\n",
    "print(l1)"
   ]
  },
  {
   "cell_type": "code",
   "execution_count": null,
   "metadata": {},
   "outputs": [],
   "source": []
  }
 ],
 "metadata": {
  "kernelspec": {
   "display_name": "base",
   "language": "python",
   "name": "python3"
  },
  "language_info": {
   "codemirror_mode": {
    "name": "ipython",
    "version": 3
   },
   "file_extension": ".py",
   "mimetype": "text/x-python",
   "name": "python",
   "nbconvert_exporter": "python",
   "pygments_lexer": "ipython3",
   "version": "3.12.3"
  }
 },
 "nbformat": 4,
 "nbformat_minor": 2
}
