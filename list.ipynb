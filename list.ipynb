{
 "cells": [
  {
   "cell_type": "markdown",
   "metadata": {},
   "source": [
    "# list\n",
    "- create\n",
    "- indexing and slicing"
   ]
  },
  {
   "cell_type": "code",
   "execution_count": 5,
   "metadata": {},
   "outputs": [
    {
     "name": "stdout",
     "output_type": "stream",
     "text": [
      "[1, 2, 3] <class 'list'>\n",
      "['alina', 'saline', 'anshika'] <class 'list'>\n",
      "['apple', 50, 'mango', 10, 'orange', 20]\n",
      "[[1, 3, 3], [4, 5, 6], [3, 6, 6]]\n",
      "[1, 1, 1, 1, 1, 1, 1, 1, 1, 1]\n",
      "['v', 'e', 'r', 't', 'e', 'x']\n",
      "['welcome', 'to', 'listing']\n"
     ]
    }
   ],
   "source": [
    "a=[1,2,3]\n",
    "print(a,type(a))\n",
    "name=[\"alina\",\"saline\",\"anshika\"]\n",
    "print(name,type(name))\n",
    "data=[\"apple\",50,\"mango\",10,\"orange\",20]\n",
    "print(data)\n",
    "nested_list=[[1,3,3],[4,5,6,],[3,6,6]]\n",
    "print(nested_list)\n",
    "duplication_list=[1]*10\n",
    "print(duplication_list)\n",
    "print(list(\"vertex\"))\n",
    "print(\"welcome to listing\".split())\n",
    "\n"
   ]
  },
  {
   "cell_type": "code",
   "execution_count": 13,
   "metadata": {},
   "outputs": [
    {
     "name": "stdout",
     "output_type": "stream",
     "text": [
      "first five= [11, 12, 13, 14, 15]\n",
      "last five= [15, 16, 17, 18, 19]\n",
      "last element= 19\n",
      "first elemnet= 11\n",
      "last five= [15, 14, 13, 12, 11]\n",
      "execpt first 2 and last 2= [13, 14, 15, 16, 17]\n",
      "all even index= [11, 13, 15, 17, 19]\n",
      "all odd indexing= [12, 14, 16, 18]\n"
     ]
    }
   ],
   "source": [
    "n=[11,12,13,14,15,16,17,18,19]\n",
    "print(\"first five=\",n[:5])\n",
    "print(\"last five=\",n[-5:])\n",
    "print(\"last element=\",n[-1])\n",
    "print(\"first elemnet=\",n[0])\n",
    "print(\"last five=\",n[-5::-1])\n",
    "print(\"execpt first 2 and last 2=\",n[2:-2])\n",
    "print(\"all even index=\",n[::2])\n",
    "print(\"all odd indexing=\",n[1::2])"
   ]
  },
  {
   "cell_type": "code",
   "execution_count": 14,
   "metadata": {},
   "outputs": [
    {
     "name": "stdout",
     "output_type": "stream",
     "text": [
      "[11, 12, 13, 14, 15, 120, 17, 18, 19]\n",
      "[300, 12, 13, 14, 15, 120, 17, 18, 19]\n"
     ]
    }
   ],
   "source": [
    "# list is mutable\n",
    "n[5]=120 #update\n",
    "print(n)\n",
    "n[0]=300\n",
    "print(n)"
   ]
  },
  {
   "cell_type": "code",
   "execution_count": 16,
   "metadata": {},
   "outputs": [
    {
     "name": "stdout",
     "output_type": "stream",
     "text": [
      "<class 'list'>\n",
      "['star wars', 'harry potter', 'inside out', 'jumanji', 'kill']\n",
      "5\n"
     ]
    }
   ],
   "source": [
    "movie=[]\n",
    "print(type(movie))\n",
    "movie.append(\"star wars\")\n",
    "movie.append(\"harry potter\")\n",
    "movie.append(\"inside out\")\n",
    "movie.append(\"jumanji\")\n",
    "movie.append(\"kill\")\n",
    "print(movie)\n",
    "print(len(movie))\n"
   ]
  },
  {
   "cell_type": "code",
   "execution_count": 20,
   "metadata": {},
   "outputs": [
    {
     "name": "stdout",
     "output_type": "stream",
     "text": [
      "['fast and furious', '2 fast and furious', '3 fast and furious', '5 fast and furious']\n",
      "['fast and furious', '2 fast and furious', '3 fast and furious', '4 fast and furious', '5 fast and furious']\n"
     ]
    }
   ],
   "source": [
    "ff=['fast and furious',\n",
    "    \"2 fast and furious\",\n",
    "    \"3 fast and furious\",\n",
    "    \"5 fast and furious\"]\n",
    "print(ff)\n",
    "ff.insert(3,\"4 fast and furious\")\n",
    "print(ff)"
   ]
  },
  {
   "cell_type": "code",
   "execution_count": 6,
   "metadata": {},
   "outputs": [
    {
     "name": "stdout",
     "output_type": "stream",
     "text": [
      "[1, 3, 5, 6, 7, 8]\n",
      "[1, 2, 3, 5, 6, 7, 8]\n",
      "[1, 2, 3, 4, 5, 6, 7, 8]\n",
      "[1, 2, 3, 4, 5, 6, 7, 8, 5]\n"
     ]
    }
   ],
   "source": [
    "n=[1,3,5,6,7,8]\n",
    "print(n)\n",
    "n.insert(1,2) # on 1st index insert the value 2.\n",
    "print(n)\n",
    "n.insert (3,4) # on 3rd index insert the value 4.\n",
    "print(n)\n",
    "n.insert(100,5) # invlaid index so it will insert at the end.\n",
    "print(n)\n"
   ]
  },
  {
   "cell_type": "code",
   "execution_count": 27,
   "metadata": {},
   "outputs": [
    {
     "name": "stdout",
     "output_type": "stream",
     "text": [
      "[11, 3, 4, 9, 12, 3, 4, 5]\n",
      "[11, 3, 4, 9, 12, 3, 4, 5, 23, 4, 5, 7]\n"
     ]
    }
   ],
   "source": [
    "# adding a list in another list\n",
    "l1=[11,3,4,9,]\n",
    "l2=[12,3,4,5]\n",
    "l3=[23,4,5,7]\n",
    "l1.extend(l2)\n",
    "print(l1)\n",
    "l1.extend(l3)\n",
    "print(l1)"
   ]
  },
  {
   "cell_type": "code",
   "execution_count": 8,
   "metadata": {},
   "outputs": [
    {
     "name": "stdout",
     "output_type": "stream",
     "text": [
      "[2, 3, 4, 5, 6, 7, 8, 5]\n",
      "[2, 3, 5, 6, 7, 8, 5]\n"
     ]
    }
   ],
   "source": [
    "n.remove(1) # search where is 3 and remove it.\n",
    "print(n)\n",
    "n.remove(4) # remove first 5.\n",
    "print(n)"
   ]
  },
  {
   "cell_type": "code",
   "execution_count": 9,
   "metadata": {},
   "outputs": [
    {
     "data": {
      "text/plain": [
       "6"
      ]
     },
     "execution_count": 9,
     "metadata": {},
     "output_type": "execute_result"
    }
   ],
   "source": [
    "n.pop(3) # index wise remolve\n"
   ]
  },
  {
   "cell_type": "code",
   "execution_count": 10,
   "metadata": {},
   "outputs": [
    {
     "data": {
      "text/plain": [
       "5"
      ]
     },
     "execution_count": 10,
     "metadata": {},
     "output_type": "execute_result"
    }
   ],
   "source": [
    "n.pop() # it remove last value"
   ]
  },
  {
   "cell_type": "code",
   "execution_count": 11,
   "metadata": {},
   "outputs": [
    {
     "name": "stdout",
     "output_type": "stream",
     "text": [
      "[]\n"
     ]
    }
   ],
   "source": [
    "n.clear() # to remove all element of the list.\n",
    "print(n)"
   ]
  },
  {
   "cell_type": "code",
   "execution_count": 12,
   "metadata": {},
   "outputs": [
    {
     "name": "stdout",
     "output_type": "stream",
     "text": [
      "6\n",
      "6\n",
      "3\n",
      "0\n"
     ]
    }
   ],
   "source": [
    "x=[1,2,3,1,1,1,2,2,2,3,1,2,1,3,2]\n",
    "print(x.count(1))\n",
    "print(x.count(2))\n",
    "print(x.count(3))\n",
    "print(x.count(4))"
   ]
  },
  {
   "cell_type": "code",
   "execution_count": 2,
   "metadata": {},
   "outputs": [
    {
     "name": "stdout",
     "output_type": "stream",
     "text": [
      "[5, 4, 3, 2, 1]\n"
     ]
    }
   ],
   "source": [
    "y=[1,2,3,4,5]\n",
    "y.reverse() # or y[::-1]\n",
    "print(y)"
   ]
  },
  {
   "cell_type": "code",
   "execution_count": 13,
   "metadata": {},
   "outputs": [
    {
     "name": "stdout",
     "output_type": "stream",
     "text": [
      "['aakaya', 'kayra', 'rahul', 'salman', 'vijay']\n",
      "['vijay', 'salman', 'rahul', 'kayra', 'aakaya']\n"
     ]
    }
   ],
   "source": [
    "names=[\"vijay\",\"salman\",\"rahul\",\"aakaya\",\"kayra\"]\n",
    "names.sort()\n",
    "print(names)\n",
    "names.sort(reverse=True)\n",
    "print(names)"
   ]
  },
  {
   "cell_type": "code",
   "execution_count": 5,
   "metadata": {},
   "outputs": [
    {
     "name": "stdout",
     "output_type": "stream",
     "text": [
      "[1, 2, 3, 4, 5]\n",
      "[1, 2, 3, 4, 5]\n",
      "[1, 2, 3, 6]\n",
      "True\n",
      "False\n"
     ]
    }
   ],
   "source": [
    "x=[1,2,3]\n",
    "y=x\n",
    "z=x.copy()\n",
    "x.append(4)\n",
    "y.append(5)\n",
    "z.append(6)\n",
    "print(x)\n",
    "print(y)\n",
    "print(z)\n",
    "print(x is y)\n",
    "print(x is z)"
   ]
  },
  {
   "cell_type": "markdown",
   "metadata": {},
   "source": [
    "comprehension\n",
    "\n"
   ]
  },
  {
   "cell_type": "code",
   "execution_count": 6,
   "metadata": {},
   "outputs": [
    {
     "name": "stdout",
     "output_type": "stream",
     "text": [
      "[1]\n",
      "[1, 4]\n",
      "[1, 4, 9]\n",
      "[1, 4, 9, 16]\n",
      "[1, 4, 9, 16, 25]\n"
     ]
    }
   ],
   "source": [
    "\n",
    "x=[1,2,3,4,5]\n",
    "x2=[]\n",
    "for i in x:\n",
    "    s=i**2\n",
    "    x2.append(s)\n",
    "    print(x2)"
   ]
  },
  {
   "cell_type": "markdown",
   "metadata": {},
   "source": [
    "syntax:\n",
    "x2=[i**2 for i in x]\n",
    "print(x2)"
   ]
  },
  {
   "cell_type": "code",
   "execution_count": 7,
   "metadata": {},
   "outputs": [
    {
     "name": "stdout",
     "output_type": "stream",
     "text": [
      "[1, 2, 3, 8, 4]\n",
      "[1, 4, 9, 64, 16]\n"
     ]
    }
   ],
   "source": [
    "x=[1,2,3,8,4,]\n",
    "x2=[i**2 for i in x]\n",
    "print(x)\n",
    "print(x2)\n"
   ]
  },
  {
   "cell_type": "code",
   "execution_count": 10,
   "metadata": {},
   "outputs": [
    {
     "name": "stdout",
     "output_type": "stream",
     "text": [
      "[1, 3, 4, 5, 6, 7]\n",
      "[-9, -7, -6, -5, -4, -3]\n"
     ]
    }
   ],
   "source": [
    "x=[1,3,4,5,6,7]\n",
    "x2=[i-10 for i in x]\n",
    "print(x)\n",
    "print(x2)"
   ]
  },
  {
   "cell_type": "code",
   "execution_count": 15,
   "metadata": {},
   "outputs": [
    {
     "name": "stdout",
     "output_type": "stream",
     "text": [
      "[10, -2, 6, 2]\n"
     ]
    }
   ],
   "source": [
    "x=[15,3,12,11,6,7]\n",
    "xeven=[i-5 for i in x if i%2!=0]\n",
    "print(xeven)"
   ]
  },
  {
   "cell_type": "code",
   "execution_count": 17,
   "metadata": {},
   "outputs": [
    {
     "name": "stdout",
     "output_type": "stream",
     "text": [
      "[65, 68, 59, 80, 70]\n",
      "['A', 'D', ';', 'P', 'F']\n"
     ]
    }
   ],
   "source": [
    "a=[65,68,59,80,70]\n",
    "b=[chr(i) for i in a]\n",
    "print(a)\n",
    "print(b)"
   ]
  },
  {
   "cell_type": "code",
   "execution_count": 18,
   "metadata": {},
   "outputs": [
    {
     "name": "stdout",
     "output_type": "stream",
     "text": [
      "['A', 1, 2, 3, 'B', 'C', 'D', 4, 5, 6, 7]\n",
      "[1, 2, 3, 4, 5, 6, 7]\n"
     ]
    }
   ],
   "source": [
    "crap_list=[\"A\",1,2,3,\"B\",\"C\",\"D\",4,5,6,7]\n",
    "clean_list=[i for i in crap_list if isinstance(i,int)]\n",
    "print(crap_list)\n",
    "print(clean_list)"
   ]
  },
  {
   "cell_type": "code",
   "execution_count": 20,
   "metadata": {},
   "outputs": [
    {
     "name": "stdout",
     "output_type": "stream",
     "text": [
      "['A', 1, 2, 3, 'B', 'C', 'D', 4, 5, 6, 7]\n",
      "['A', 'B', 'C', 'D']\n"
     ]
    }
   ],
   "source": [
    "crap_list=[\"A\",1,2,3,\"B\",\"C\",\"D\",4,5,6,7]\n",
    "clean_list=[i for i in crap_list if isinstance(i,str)]\n",
    "print(crap_list)\n",
    "print(clean_list)"
   ]
  },
  {
   "cell_type": "code",
   "execution_count": 23,
   "metadata": {},
   "outputs": [
    {
     "name": "stdout",
     "output_type": "stream",
     "text": [
      "[12, 3, 2, 4, 5]\n"
     ]
    }
   ],
   "source": [
    "# make all the input to a int list\n",
    "nums=[int(n) for n in input(\"enter the number with spaces\").split()]\n",
    "print(nums)"
   ]
  },
  {
   "cell_type": "markdown",
   "metadata": {},
   "source": [
    "# Data Structure\n",
    "- list :- ( index , orderded , write [ ] , duplicates , mutable , single , elements )\n",
    "- tuple :- ( index , orderded , write ( ) , duplicates , immutable , single )\n",
    "- set :- ( unindexed , unorderded , write { } , unique , mutable , single )\n",
    "- dictionary :-( unindexed , orderded , write { } , value duplicates , mutable , key = value pair )"
   ]
  },
  {
   "cell_type": "markdown",
   "metadata": {},
   "source": [
    "# Tuple"
   ]
  },
  {
   "cell_type": "code",
   "execution_count": 24,
   "metadata": {},
   "outputs": [
    {
     "name": "stdout",
     "output_type": "stream",
     "text": [
      "(1, 2, 3, 4, 5, 6, 7) <class 'type'>\n",
      "(1, 2, 3, 4, 5) <class 'tuple'>\n",
      "(1,)\n",
      "(1, 2, 3, 4, 5) <class 'tuple'>\n"
     ]
    }
   ],
   "source": [
    "a=(1,2,3,4,5,6,7)\n",
    "print(a,type)\n",
    "b=1,2,3,4,5\n",
    "print(b,type(b))\n",
    "# single element tuple\n",
    "c=(1,)\n",
    "print(c)\n",
    "e=tuple([1,2,3,4,5])\n",
    "print(e,type(e))"
   ]
  },
  {
   "cell_type": "code",
   "execution_count": 25,
   "metadata": {},
   "outputs": [
    {
     "name": "stdout",
     "output_type": "stream",
     "text": [
      "1\n",
      "2\n",
      "7\n",
      "(1, 2, 3)\n",
      "(4, 5, 6, 7)\n"
     ]
    }
   ],
   "source": [
    "print(a[0])\n",
    "print(a[1])\n",
    "print(a[-1])\n",
    "print(a[:3])\n",
    "print(a[3:])\n",
    "\n"
   ]
  },
  {
   "cell_type": "code",
   "execution_count": 26,
   "metadata": {},
   "outputs": [
    {
     "name": "stdout",
     "output_type": "stream",
     "text": [
      "4\n",
      "0\n",
      "5\n"
     ]
    }
   ],
   "source": [
    "x=(1,1,1,1,3,4,5,6,6,)\n",
    "print(x.count(1))\n",
    "print(x.count(10))\n",
    "print(x.index(4))"
   ]
  },
  {
   "cell_type": "markdown",
   "metadata": {},
   "source": [
    "# tuple unpacking \n"
   ]
  },
  {
   "cell_type": "markdown",
   "metadata": {},
   "source": [
    "\n",
    "1,2,3"
   ]
  },
  {
   "cell_type": "code",
   "execution_count": 2,
   "metadata": {},
   "outputs": [
    {
     "name": "stdout",
     "output_type": "stream",
     "text": [
      "('apple', 100)\n"
     ]
    }
   ],
   "source": [
    "x=(\"apple\",100)\n",
    "print(x)"
   ]
  },
  {
   "cell_type": "code",
   "execution_count": 3,
   "metadata": {},
   "outputs": [
    {
     "name": "stdout",
     "output_type": "stream",
     "text": [
      "apple 100\n"
     ]
    }
   ],
   "source": [
    "item,price=x\n",
    "print(item,price)"
   ]
  },
  {
   "cell_type": "code",
   "execution_count": 4,
   "metadata": {},
   "outputs": [
    {
     "name": "stdout",
     "output_type": "stream",
     "text": [
      "10 20 30\n"
     ]
    }
   ],
   "source": [
    "a,b,c=10 , 20, 30\n",
    "print(a,b,c)"
   ]
  },
  {
   "cell_type": "code",
   "execution_count": 5,
   "metadata": {},
   "outputs": [
    {
     "name": "stdout",
     "output_type": "stream",
     "text": [
      "1 2 [3, 4, 5, 6, 7, 8, 9, 10]\n"
     ]
    }
   ],
   "source": [
    "# error- too many value to unpack\n",
    "one_tuple=(1,2,3,4,5,6,7,8,9,10)\n",
    "a,b,*c=one_tuple\n",
    "print(a,b,c)"
   ]
  },
  {
   "cell_type": "code",
   "execution_count": 6,
   "metadata": {},
   "outputs": [
    {
     "ename": "ValueError",
     "evalue": "not enough values to unpack (expected 3, got 2)",
     "output_type": "error",
     "traceback": [
      "\u001b[1;31m---------------------------------------------------------------------------\u001b[0m",
      "\u001b[1;31mValueError\u001b[0m                                Traceback (most recent call last)",
      "Cell \u001b[1;32mIn[6], line 1\u001b[0m\n\u001b[1;32m----> 1\u001b[0m a,b,c\u001b[38;5;241m=\u001b[39mx\n",
      "\u001b[1;31mValueError\u001b[0m: not enough values to unpack (expected 3, got 2)"
     ]
    }
   ],
   "source": [
    "a,b,c=x # unfixeble \n"
   ]
  },
  {
   "cell_type": "code",
   "execution_count": 7,
   "metadata": {},
   "outputs": [
    {
     "name": "stdout",
     "output_type": "stream",
     "text": [
      "1\n",
      "[2, 3, 4, 5, 6, 7, 8, 9, 10]\n",
      "[1, 2, 3, 4, 5, 6, 7, 8, 9]\n",
      "10\n"
     ]
    }
   ],
   "source": [
    "a,*b=one_tuple\n",
    "print(a)\n",
    "print(b)\n",
    "*a,b=one_tuple\n",
    "print(a)\n",
    "print(b)"
   ]
  },
  {
   "cell_type": "code",
   "execution_count": 8,
   "metadata": {},
   "outputs": [
    {
     "name": "stdout",
     "output_type": "stream",
     "text": [
      "1\n",
      "[2, 3, 4, 5, 6, 7, 8, 9]\n",
      "10\n"
     ]
    }
   ],
   "source": [
    "one , *middle , last = one_tuple\n",
    "print(one)\n",
    "print(middle)\n",
    "print(last)"
   ]
  },
  {
   "cell_type": "code",
   "execution_count": null,
   "metadata": {},
   "outputs": [],
   "source": [
    "# trick- using * for displaying data in print"
   ]
  },
  {
   "cell_type": "code",
   "execution_count": 9,
   "metadata": {},
   "outputs": [
    {
     "name": "stdout",
     "output_type": "stream",
     "text": [
      "(1, 2, 3, 4, 5, 6, 7, 8, 9, 10)\n",
      "1 2 3 4 5 6 7 8 9 10\n",
      "1\n",
      "2\n",
      "3\n",
      "4\n",
      "5\n",
      "6\n",
      "7\n",
      "8\n",
      "9\n",
      "10\n"
     ]
    }
   ],
   "source": [
    "print(one_tuple)\n",
    "\n",
    "print(*one_tuple) # work with any iterable.\n",
    "\n",
    "print(*one_tuple,sep=\"\\n\")"
   ]
  },
  {
   "cell_type": "code",
   "execution_count": 10,
   "metadata": {},
   "outputs": [
    {
     "name": "stdout",
     "output_type": "stream",
     "text": [
      "1\n",
      "2\n",
      "3\n",
      "4\n",
      "5\n",
      "6\n",
      "7\n",
      "8\n",
      "9\n",
      "10\n"
     ]
    }
   ],
   "source": [
    "for i in one_tuple:\n",
    "    print(i)\n"
   ]
  },
  {
   "cell_type": "code",
   "execution_count": null,
   "metadata": {},
   "outputs": [],
   "source": []
  }
 ],
 "metadata": {
  "kernelspec": {
   "display_name": "base",
   "language": "python",
   "name": "python3"
  },
  "language_info": {
   "codemirror_mode": {
    "name": "ipython",
    "version": 3
   },
   "file_extension": ".py",
   "mimetype": "text/x-python",
   "name": "python",
   "nbconvert_exporter": "python",
   "pygments_lexer": "ipython3",
   "version": "3.12.3"
  }
 },
 "nbformat": 4,
 "nbformat_minor": 2
}
