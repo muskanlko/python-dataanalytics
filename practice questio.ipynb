{
 "cells": [
  {
   "cell_type": "code",
   "execution_count": 2,
   "metadata": {},
   "outputs": [
    {
     "name": "stdout",
     "output_type": "stream",
     "text": [
      "1\n",
      "2\n",
      "3\n",
      "4\n",
      "5\n",
      "6\n",
      "7\n",
      "8\n",
      "9\n",
      "10\n"
     ]
    }
   ],
   "source": [
    "# WAP a program to print nu,bers from 1 to 10 using a for loop.\n",
    "for num in range(1,11):\n",
    "    print(num)"
   ]
  },
  {
   "cell_type": "code",
   "execution_count": 4,
   "metadata": {},
   "outputs": [
    {
     "name": "stdout",
     "output_type": "stream",
     "text": [
      "5 * 1 =5\n",
      "5 * 2 =10\n",
      "5 * 3 =15\n",
      "5 * 4 =20\n",
      "5 * 5 =25\n",
      "5 * 6 =30\n",
      "5 * 7 =35\n",
      "5 * 8 =40\n",
      "5 * 9 =45\n",
      "5 * 10 =50\n"
     ]
    }
   ],
   "source": [
    "# WAP a program to print the multiplication table of a given number using a while loop.\n",
    "a=5\n",
    "total=1\n",
    "while total<=10:\n",
    "    table=a * total\n",
    "    print(f\"{a} * {total} = {table}\")\n",
    "    total+=1\n",
    "          "
   ]
  },
  {
   "cell_type": "code",
   "execution_count": 7,
   "metadata": {},
   "outputs": [
    {
     "name": "stdout",
     "output_type": "stream",
     "text": [
      "2550\n"
     ]
    }
   ],
   "source": [
    "# WAP a program to find sum of all even no. between 1 to 100 using a for loop.\n",
    "sum=0\n",
    "for i in range(1,101):\n",
    "    if i % 2==0:\n",
    "        sum+=i\n",
    "print(sum)\n",
    "\n",
    "        \n"
   ]
  },
  {
   "cell_type": "code",
   "execution_count": null,
   "metadata": {},
   "outputs": [],
   "source": []
  },
  {
   "cell_type": "markdown",
   "metadata": {},
   "source": []
  }
 ],
 "metadata": {
  "kernelspec": {
   "display_name": "base",
   "language": "python",
   "name": "python3"
  },
  "language_info": {
   "codemirror_mode": {
    "name": "ipython",
    "version": 3
   },
   "file_extension": ".py",
   "mimetype": "text/x-python",
   "name": "python",
   "nbconvert_exporter": "python",
   "pygments_lexer": "ipython3",
   "version": "3.12.3"
  }
 },
 "nbformat": 4,
 "nbformat_minor": 2
}
