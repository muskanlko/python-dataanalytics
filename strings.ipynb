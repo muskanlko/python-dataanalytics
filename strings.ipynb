{
 "cells": [
  {
   "cell_type": "code",
   "execution_count": null,
   "metadata": {},
   "outputs": [],
   "source": []
  },
  {
   "cell_type": "markdown",
   "metadata": {},
   "source": [
    "### String\n",
    "- creation\n",
    "- indexingand slicing\n",
    "- method\n"
   ]
  },
  {
   "cell_type": "code",
   "execution_count": null,
   "metadata": {},
   "outputs": [],
   "source": [
    "# single\n",
    "a='apple'\n",
    "print(type(a))"
   ]
  },
  {
   "cell_type": "code",
   "execution_count": null,
   "metadata": {},
   "outputs": [],
   "source": [
    "# double\n",
    "b=\"big apple\"\n",
    "print(type(b))"
   ]
  },
  {
   "cell_type": "code",
   "execution_count": null,
   "metadata": {},
   "outputs": [],
   "source": [
    "# triple\n",
    "c='''this is a string \n",
    "and its in triple \n",
    "quotes'''\n",
    "print(type(c))"
   ]
  },
  {
   "cell_type": "code",
   "execution_count": null,
   "metadata": {},
   "outputs": [],
   "source": [
    "d=str(12908)\n",
    "print(type(d))"
   ]
  },
  {
   "cell_type": "markdown",
   "metadata": {},
   "source": [
    "type of string\n",
    "- byte b'hello'\n",
    "- raw r'hello'\n",
    "- format f'hello{a}'"
   ]
  },
  {
   "cell_type": "code",
   "execution_count": 5,
   "metadata": {},
   "outputs": [
    {
     "name": "stdout",
     "output_type": "stream",
     "text": [
      "b'this is a byte string'\n",
      "this is \\n\\n\\n a byte string\n"
     ]
    },
    {
     "ename": "NameError",
     "evalue": "name 'a' is not defined",
     "output_type": "error",
     "traceback": [
      "\u001b[1;31m---------------------------------------------------------------------------\u001b[0m",
      "\u001b[1;31mNameError\u001b[0m                                 Traceback (most recent call last)",
      "Cell \u001b[1;32mIn[5], line 3\u001b[0m\n\u001b[0;32m      1\u001b[0m \u001b[38;5;28mprint\u001b[39m(\u001b[38;5;124mb\u001b[39m\u001b[38;5;124m\"\u001b[39m\u001b[38;5;124mthis is a byte string\u001b[39m\u001b[38;5;124m\"\u001b[39m)\u001b[38;5;66;03m#in this store the binary value\u001b[39;00m\n\u001b[0;32m      2\u001b[0m \u001b[38;5;28mprint\u001b[39m(\u001b[38;5;124mr\u001b[39m\u001b[38;5;124m'\u001b[39m\u001b[38;5;124mthis is \u001b[39m\u001b[38;5;124m\\\u001b[39m\u001b[38;5;124mn\u001b[39m\u001b[38;5;124m\\\u001b[39m\u001b[38;5;124mn\u001b[39m\u001b[38;5;124m\\\u001b[39m\u001b[38;5;124mn a byte string\u001b[39m\u001b[38;5;124m'\u001b[39m)\u001b[38;5;66;03m#in this remume the spetical character\u001b[39;00m\n\u001b[1;32m----> 3\u001b[0m \u001b[38;5;28mprint\u001b[39m(\u001b[38;5;124mf\u001b[39m\u001b[38;5;124m\"\u001b[39m\u001b[38;5;132;01m{\u001b[39;00ma\u001b[38;5;132;01m}\u001b[39;00m\u001b[38;5;124m is a value\u001b[39m\u001b[38;5;124m\"\u001b[39m)\n",
      "\u001b[1;31mNameError\u001b[0m: name 'a' is not defined"
     ]
    }
   ],
   "source": [
    "print(b\"this is a byte string\")#in this store the binary value\n",
    "print(r'this is \\n\\n\\n a byte string')#in this remume the spetical character\n",
    "print(f\"{a} is a value\") #this used for fotmating"
   ]
  },
  {
   "cell_type": "markdown",
   "metadata": {},
   "source": [
    "# indexing\n",
    "-5 -4 -3 -2 -1\n"
   ]
  },
  {
   "cell_type": "code",
   "execution_count": 6,
   "metadata": {},
   "outputs": [
    {
     "name": "stdout",
     "output_type": "stream",
     "text": [
      "g\n",
      "r\n",
      "e\n",
      "e\n",
      "k\n"
     ]
    }
   ],
   "source": [
    "word=\"greek\"\n",
    "print(word[0])\n",
    "print(word[1])\n",
    "print(word[2])\n",
    "print(word[-2])\n",
    "print(word[-1])\n"
   ]
  },
  {
   "cell_type": "code",
   "execution_count": 7,
   "metadata": {},
   "outputs": [
    {
     "name": "stdout",
     "output_type": "stream",
     "text": [
      "d\n",
      "n\n"
     ]
    }
   ],
   "source": [
    "msg=\"journey before destination\"\n",
    "print(msg[15])\n",
    "print(msg[-6])\n",
    "\n"
   ]
  },
  {
   "cell_type": "code",
   "execution_count": 10,
   "metadata": {},
   "outputs": [
    {
     "name": "stdout",
     "output_type": "stream",
     "text": [
      "jour\n"
     ]
    }
   ],
   "source": [
    "print(msg[0]+msg[1]+msg[2]+msg[3])"
   ]
  },
  {
   "cell_type": "code",
   "execution_count": 14,
   "metadata": {},
   "outputs": [
    {
     "name": "stdout",
     "output_type": "stream",
     "text": [
      "before\n"
     ]
    }
   ],
   "source": [
    "print(msg[8:14])"
   ]
  },
  {
   "cell_type": "code",
   "execution_count": 16,
   "metadata": {},
   "outputs": [
    {
     "name": "stdout",
     "output_type": "stream",
     "text": [
      "destination\n"
     ]
    }
   ],
   "source": [
    "print(msg[15:])"
   ]
  },
  {
   "cell_type": "code",
   "execution_count": 19,
   "metadata": {},
   "outputs": [
    {
     "name": "stdout",
     "output_type": "stream",
     "text": [
      "vija\n",
      "deenanath\n",
      "chauhan\n"
     ]
    }
   ],
   "source": [
    "name=\"vijay deenanath chauhan\"\n",
    "fname= print(name[0:4] )\n",
    "mname =print(name[6:-8])\n",
    "lname= print(name[-7:])"
   ]
  },
  {
   "cell_type": "code",
   "execution_count": 22,
   "metadata": {},
   "outputs": [
    {
     "name": "stdout",
     "output_type": "stream",
     "text": [
      "nahuahc htananeed yajiv\n",
      "nhachaaedyjv\n",
      "ia ennt hua\n",
      " deenanath \n"
     ]
    }
   ],
   "source": [
    "# reverse\n",
    "print(name[::-1])\n",
    "#step\n",
    "print(name[::-2])\n",
    "print(name[1::2])\n",
    "print(name[5:-7])"
   ]
  },
  {
   "cell_type": "code",
   "execution_count": 25,
   "metadata": {},
   "outputs": [
    {
     "name": "stdout",
     "output_type": "stream",
     "text": [
      "convert into float\n",
      "5599.25\n"
     ]
    }
   ],
   "source": [
    "x=\"$5599.25 only\"\n",
    "print(\"convert into float\")\n",
    "print(x[1:-5])\n"
   ]
  },
  {
   "cell_type": "markdown",
   "metadata": {},
   "source": [
    "# string method\n",
    "-formating meyhod\n",
    "\n",
    "    - upper()\n",
    "    - lower()\n",
    "    - capitalize()\n",
    "    - title()\n",
    "    - swapcase()\n",
    "    - casefold()\n",
    "    - center()\n",
    "    - ljust()\n",
    "    rjust()\n",
    "    "
   ]
  },
  {
   "cell_type": "code",
   "execution_count": 29,
   "metadata": {},
   "outputs": [
    {
     "name": "stdout",
     "output_type": "stream",
     "text": [
      "LIFE IS BEAUTIFUL\n",
      "life is beautiful\n",
      "Life Is Beautiful\n",
      "Life is beautiful\n",
      "lIFE IS bEAUTIFUL\n",
      "life is beautiful\n",
      "                Life is Beautiful                 \n",
      "Life is Beautiful                                 \n",
      "                                 Life is Beautiful\n",
      "*********************************Life is Beautiful\n",
      "*********************************Life is Beautiful\n",
      "****************Life is Beautiful*****************\n"
     ]
    }
   ],
   "source": [
    "msg=\"Life is Beautiful\"\n",
    "print(msg.upper())\n",
    "print(msg.lower())\n",
    "print(msg.title())\n",
    "print(msg.capitalize())\n",
    "print(msg.swapcase())\n",
    "print(msg.casefold())\n",
    "print(msg.center(50))\n",
    "print(msg.ljust(50))\n",
    "print(msg.rjust(50))\n",
    "print(msg.rjust(50,\"*\"))\n",
    "print(msg.rjust(50,\"*\"))\n",
    "print(msg.center(50,\"*\"))\n"
   ]
  },
  {
   "cell_type": "markdown",
   "metadata": {},
   "source": [
    "- validation method\n",
    "    - isalpha()\n",
    "    - isalnum()\n",
    "    - isnumeric()\n",
    "    - isdigit()\n",
    "    - isspace()\n",
    "    - isascii()\n",
    "    - isspace()"
   ]
  },
  {
   "cell_type": "code",
   "execution_count": 30,
   "metadata": {},
   "outputs": [
    {
     "name": "stdout",
     "output_type": "stream",
     "text": [
      "True\n",
      "True\n",
      "False\n",
      "False\n",
      "True\n",
      "True\n",
      "False\n",
      "True\n"
     ]
    }
   ],
   "source": [
    "data= input(\"enter data:\")\n",
    "print(data.isalpha())\n",
    "print(data.isalnum())\n",
    "print(data.isnumeric())\n",
    "print(data.isdigit())\n",
    "print(data.isascii())\n",
    "print(data.isprintable())\n",
    "print(data.isupper())\n",
    "print(data.islower())"
   ]
  },
  {
   "cell_type": "code",
   "execution_count": 31,
   "metadata": {},
   "outputs": [
    {
     "name": "stdout",
     "output_type": "stream",
     "text": [
      "0=\u0000,True\n",
      "5=\u0005,True\n",
      "10=\n",
      ",True\n",
      "15=\u000f,True\n",
      "20=\u0014,True\n",
      "25=\u0019,True\n",
      "30=\u001e,True\n",
      "35=#,True\n",
      "40=(,True\n",
      "45=-,True\n",
      "50=2,True\n",
      "55=7,True\n",
      "60=<,True\n",
      "65=A,True\n",
      "70=F,True\n",
      "75=K,True\n",
      "80=P,True\n",
      "85=U,True\n",
      "90=Z,True\n",
      "95=_,True\n",
      "100=d,True\n",
      "105=i,True\n",
      "110=n,True\n",
      "115=s,True\n",
      "120=x,True\n",
      "125=},True\n",
      "130=,False\n",
      "135=,False\n",
      "140=,False\n",
      "145=,False\n",
      "150=,False\n",
      "155=,False\n",
      "160= ,False\n",
      "165=¥,False\n",
      "170=ª,False\n",
      "175=¯,False\n",
      "180=´,False\n",
      "185=¹,False\n",
      "190=¾,False\n",
      "195=Ã,False\n",
      "200=È,False\n",
      "205=Í,False\n",
      "210=Ò,False\n",
      "215=×,False\n",
      "220=Ü,False\n",
      "225=á,False\n",
      "230=æ,False\n",
      "235=ë,False\n",
      "240=ð,False\n",
      "245=õ,False\n",
      "250=ú,False\n",
      "255=ÿ,False\n",
      "260=Ą,False\n",
      "265=ĉ,False\n",
      "270=Ď,False\n",
      "275=ē,False\n"
     ]
    }
   ],
   "source": [
    "for i in range(0,280,5):\n",
    "    c=chr(i)\n",
    "    print(f'{i}={c},{c.isascii()}')"
   ]
  },
  {
   "cell_type": "code",
   "execution_count": null,
   "metadata": {},
   "outputs": [],
   "source": []
  }
 ],
 "metadata": {
  "kernelspec": {
   "display_name": "base",
   "language": "python",
   "name": "python3"
  },
  "language_info": {
   "codemirror_mode": {
    "name": "ipython",
    "version": 3
   },
   "file_extension": ".py",
   "mimetype": "text/x-python",
   "name": "python",
   "nbconvert_exporter": "python",
   "pygments_lexer": "ipython3",
   "version": "3.12.3"
  }
 },
 "nbformat": 4,
 "nbformat_minor": 2
}
