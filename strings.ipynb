{
 "cells": [
  {
   "cell_type": "code",
   "execution_count": null,
   "metadata": {},
   "outputs": [],
   "source": []
  },
  {
   "cell_type": "markdown",
   "metadata": {},
   "source": [
    "### String\n",
    "- creation\n",
    "- indexingand slicing\n",
    "- method\n"
   ]
  },
  {
   "cell_type": "code",
   "execution_count": null,
   "metadata": {},
   "outputs": [],
   "source": [
    "# single\n",
    "a='apple'\n",
    "print(type(a))"
   ]
  },
  {
   "cell_type": "code",
   "execution_count": null,
   "metadata": {},
   "outputs": [],
   "source": [
    "# double\n",
    "b=\"big apple\"\n",
    "print(type(b))"
   ]
  },
  {
   "cell_type": "code",
   "execution_count": null,
   "metadata": {},
   "outputs": [],
   "source": [
    "# triple\n",
    "c='''this is a string \n",
    "and its in triple \n",
    "quotes'''\n",
    "print(type(c))"
   ]
  },
  {
   "cell_type": "code",
   "execution_count": null,
   "metadata": {},
   "outputs": [],
   "source": [
    "d=str(12908)\n",
    "print(type(d))"
   ]
  },
  {
   "cell_type": "markdown",
   "metadata": {},
   "source": [
    "type of string\n",
    "- byte b'hello'\n",
    "- raw r'hello'\n",
    "- format f'hello {a}'"
   ]
  },
  {
   "cell_type": "code",
   "execution_count": 2,
   "metadata": {},
   "outputs": [
    {
     "name": "stdout",
     "output_type": "stream",
     "text": [
      "b'this is a byte string'\n",
      "this is \\n\\n\\n a byte string\n",
      "apple is a value\n"
     ]
    }
   ],
   "source": [
    "a=\"apple\"\n",
    "print(b\"this is a byte string\")#in this store the binary value\n",
    "print(r'this is \\n\\n\\n a byte string')#in this remume the spetical character\n",
    "print(f\"{a} is a value\") #this used for fotmating"
   ]
  },
  {
   "cell_type": "markdown",
   "metadata": {},
   "source": [
    "# indexing\n",
    "-5 -4 -3 -2 -1\n"
   ]
  },
  {
   "cell_type": "code",
   "execution_count": 6,
   "metadata": {},
   "outputs": [
    {
     "name": "stdout",
     "output_type": "stream",
     "text": [
      "g\n",
      "r\n",
      "e\n",
      "e\n",
      "k\n"
     ]
    }
   ],
   "source": [
    "word=\"greek\"\n",
    "print(word[0])\n",
    "print(word[1])\n",
    "print(word[2])\n",
    "print(word[-2])\n",
    "print(word[-1])\n"
   ]
  },
  {
   "cell_type": "code",
   "execution_count": 7,
   "metadata": {},
   "outputs": [
    {
     "name": "stdout",
     "output_type": "stream",
     "text": [
      "d\n",
      "n\n"
     ]
    }
   ],
   "source": [
    "msg=\"journey before destination\"\n",
    "print(msg[15])\n",
    "print(msg[-6])\n",
    "\n"
   ]
  },
  {
   "cell_type": "code",
   "execution_count": 10,
   "metadata": {},
   "outputs": [
    {
     "name": "stdout",
     "output_type": "stream",
     "text": [
      "jour\n"
     ]
    }
   ],
   "source": [
    "print(msg[0]+msg[1]+msg[2]+msg[3])"
   ]
  },
  {
   "cell_type": "code",
   "execution_count": 14,
   "metadata": {},
   "outputs": [
    {
     "name": "stdout",
     "output_type": "stream",
     "text": [
      "before\n"
     ]
    }
   ],
   "source": [
    "print(msg[8:14])"
   ]
  },
  {
   "cell_type": "code",
   "execution_count": 16,
   "metadata": {},
   "outputs": [
    {
     "name": "stdout",
     "output_type": "stream",
     "text": [
      "destination\n"
     ]
    }
   ],
   "source": [
    "print(msg[15:])"
   ]
  },
  {
   "cell_type": "code",
   "execution_count": 19,
   "metadata": {},
   "outputs": [
    {
     "name": "stdout",
     "output_type": "stream",
     "text": [
      "vija\n",
      "deenanath\n",
      "chauhan\n"
     ]
    }
   ],
   "source": [
    "name=\"vijay deenanath chauhan\"\n",
    "fname= print(name[0:4] )\n",
    "mname =print(name[6:-8])\n",
    "lname= print(name[-7:])"
   ]
  },
  {
   "cell_type": "code",
   "execution_count": 22,
   "metadata": {},
   "outputs": [
    {
     "name": "stdout",
     "output_type": "stream",
     "text": [
      "nahuahc htananeed yajiv\n",
      "nhachaaedyjv\n",
      "ia ennt hua\n",
      " deenanath \n"
     ]
    }
   ],
   "source": [
    "# reverse\n",
    "print(name[::-1])\n",
    "#step\n",
    "print(name[::-2])\n",
    "print(name[1::2])\n",
    "print(name[5:-7])"
   ]
  },
  {
   "cell_type": "code",
   "execution_count": 25,
   "metadata": {},
   "outputs": [
    {
     "name": "stdout",
     "output_type": "stream",
     "text": [
      "convert into float\n",
      "5599.25\n"
     ]
    }
   ],
   "source": [
    "x=\"$5599.25 only\"\n",
    "print(\"convert into float\")\n",
    "print(x[1:-5])\n"
   ]
  },
  {
   "cell_type": "markdown",
   "metadata": {},
   "source": [
    "# string method\n",
    "-formating meyhod\n",
    "\n",
    "    - upper()\n",
    "    - lower()\n",
    "    - capitalize()\n",
    "    - title()\n",
    "    - swapcase()\n",
    "    - casefold()\n",
    "    - center()\n",
    "    - ljust()\n",
    "    rjust()\n",
    "    "
   ]
  },
  {
   "cell_type": "code",
   "execution_count": 29,
   "metadata": {},
   "outputs": [
    {
     "name": "stdout",
     "output_type": "stream",
     "text": [
      "LIFE IS BEAUTIFUL\n",
      "life is beautiful\n",
      "Life Is Beautiful\n",
      "Life is beautiful\n",
      "lIFE IS bEAUTIFUL\n",
      "life is beautiful\n",
      "                Life is Beautiful                 \n",
      "Life is Beautiful                                 \n",
      "                                 Life is Beautiful\n",
      "*********************************Life is Beautiful\n",
      "*********************************Life is Beautiful\n",
      "****************Life is Beautiful*****************\n"
     ]
    }
   ],
   "source": [
    "msg=\"Life is Beautiful\"\n",
    "print(msg.upper())\n",
    "print(msg.lower())\n",
    "print(msg.title())\n",
    "print(msg.capitalize())\n",
    "print(msg.swapcase())\n",
    "print(msg.casefold())\n",
    "print(msg.center(50))\n",
    "print(msg.ljust(50))\n",
    "print(msg.rjust(50))\n",
    "print(msg.rjust(50,\"*\"))\n",
    "print(msg.rjust(50,\"*\"))\n",
    "print(msg.center(50,\"*\"))\n"
   ]
  },
  {
   "cell_type": "markdown",
   "metadata": {},
   "source": [
    "- validation method\n",
    "    - isalpha()\n",
    "    - isalnum()\n",
    "    - isnumeric()\n",
    "    - isdigit()\n",
    "    - isspace()\n",
    "    - isascii()\n",
    "    - isspace()\n",
    "    - isprintable()\n",
    "    - isupper()\n",
    "    - is lower()\n",
    "    "
   ]
  },
  {
   "cell_type": "code",
   "execution_count": 30,
   "metadata": {},
   "outputs": [
    {
     "name": "stdout",
     "output_type": "stream",
     "text": [
      "True\n",
      "True\n",
      "False\n",
      "False\n",
      "True\n",
      "True\n",
      "False\n",
      "True\n"
     ]
    }
   ],
   "source": [
    "data= input(\"enter data:\")\n",
    "print(data.isalpha())\n",
    "print(data.isalnum())\n",
    "print(data.isnumeric())\n",
    "print(data.isdigit())\n",
    "print(data.isascii())\n",
    "print(data.isprintable())\n",
    "print(data.isupper())\n",
    "print(data.islower())"
   ]
  },
  {
   "cell_type": "code",
   "execution_count": 31,
   "metadata": {},
   "outputs": [
    {
     "name": "stdout",
     "output_type": "stream",
     "text": [
      "0=\u0000,True\n",
      "5=\u0005,True\n",
      "10=\n",
      ",True\n",
      "15=\u000f,True\n",
      "20=\u0014,True\n",
      "25=\u0019,True\n",
      "30=\u001e,True\n",
      "35=#,True\n",
      "40=(,True\n",
      "45=-,True\n",
      "50=2,True\n",
      "55=7,True\n",
      "60=<,True\n",
      "65=A,True\n",
      "70=F,True\n",
      "75=K,True\n",
      "80=P,True\n",
      "85=U,True\n",
      "90=Z,True\n",
      "95=_,True\n",
      "100=d,True\n",
      "105=i,True\n",
      "110=n,True\n",
      "115=s,True\n",
      "120=x,True\n",
      "125=},True\n",
      "130=,False\n",
      "135=,False\n",
      "140=,False\n",
      "145=,False\n",
      "150=,False\n",
      "155=,False\n",
      "160= ,False\n",
      "165=¥,False\n",
      "170=ª,False\n",
      "175=¯,False\n",
      "180=´,False\n",
      "185=¹,False\n",
      "190=¾,False\n",
      "195=Ã,False\n",
      "200=È,False\n",
      "205=Í,False\n",
      "210=Ò,False\n",
      "215=×,False\n",
      "220=Ü,False\n",
      "225=á,False\n",
      "230=æ,False\n",
      "235=ë,False\n",
      "240=ð,False\n",
      "245=õ,False\n",
      "250=ú,False\n",
      "255=ÿ,False\n",
      "260=Ą,False\n",
      "265=ĉ,False\n",
      "270=Ď,False\n",
      "275=ē,False\n"
     ]
    }
   ],
   "source": [
    "for i in range(0,280,5):\n",
    "    c=chr(i)\n",
    "    print(f'{i}={c},{c.isascii()}')"
   ]
  },
  {
   "cell_type": "markdown",
   "metadata": {},
   "source": [
    "- utility function\n",
    "    - split()\n",
    "    - join()\n",
    "    - find()\n",
    "    - rfind()\n",
    "    - index()\n",
    "    - replace()\n",
    "    - count()\n",
    "    - strip()\n"
   ]
  },
  {
   "cell_type": "code",
   "execution_count": 1,
   "metadata": {},
   "outputs": [
    {
     "data": {
      "text/plain": [
       "['all', 'the', 'glitter', 'is', 'not', 'gold']"
      ]
     },
     "execution_count": 1,
     "metadata": {},
     "output_type": "execute_result"
    }
   ],
   "source": [
    "sentence=\"all the glitter is not gold\"\n",
    "sentence.split()"
   ]
  },
  {
   "cell_type": "code",
   "execution_count": null,
   "metadata": {},
   "outputs": [],
   "source": [
    "word= sentence.split()\n",
    "for word in word:\n",
    "    print(word)\n"
   ]
  },
  {
   "cell_type": "code",
   "execution_count": 2,
   "metadata": {},
   "outputs": [
    {
     "data": {
      "text/plain": [
       "['life before death', 'strength before weakness', 'journey before destination']"
      ]
     },
     "execution_count": 2,
     "metadata": {},
     "output_type": "execute_result"
    }
   ],
   "source": [
    "quote=\"life before death,strength before weakness,journey before destination\"\n",
    "quote.split(\",\")"
   ]
  },
  {
   "cell_type": "code",
   "execution_count": 3,
   "metadata": {},
   "outputs": [
    {
     "data": {
      "text/plain": [
       "['johnny johny, yes papa',\n",
       " 'eatting sugger no papa',\n",
       " 'tailling a lies no papa',\n",
       " 'open your mouth ha! ha! ha!']"
      ]
     },
     "execution_count": 3,
     "metadata": {},
     "output_type": "execute_result"
    }
   ],
   "source": [
    "poem='''johnny johny, yes papa\n",
    "eatting sugger no papa\n",
    "tailling a lies no papa\n",
    "open your mouth ha! ha! ha!'''\n",
    "poem.splitlines()"
   ]
  },
  {
   "cell_type": "code",
   "execution_count": 6,
   "metadata": {},
   "outputs": [
    {
     "name": "stdout",
     "output_type": "stream",
     "text": [
      "['c', 'user', 'muskan', 'download', 'file.txt']\n",
      "c/user/muskan/download/file.txt\n"
     ]
    }
   ],
   "source": [
    "addr=['c','user','muskan','download','file.txt']\n",
    "print(addr)\n",
    "full_addr = \"/\".join(addr)\n",
    "print(full_addr)"
   ]
  },
  {
   "cell_type": "code",
   "execution_count": null,
   "metadata": {},
   "outputs": [],
   "source": [
    "quote=input(\"enter the string\")\n",
    "words=sentence.split()\n",
    "total=0\n",
    "for word in words :\n",
    "    size=len(word)\n",
    "    if size %2==0:\n",
    "        total+=1\n",
    "    print(total)"
   ]
  },
  {
   "cell_type": "code",
   "execution_count": 8,
   "metadata": {},
   "outputs": [
    {
     "name": "stdout",
     "output_type": "stream",
     "text": [
      "1\n",
      "2\n",
      "3\n",
      "3\n",
      "4\n",
      "4\n"
     ]
    }
   ],
   "source": [
    "quote=input(\"enter the string\")\n",
    "words=sentence.split()\n",
    "total=0\n",
    "for word in words :\n",
    "    size=len(word)\n",
    "    if size % 2!=0:\n",
    "        total+=1\n",
    "    print(total)"
   ]
  },
  {
   "cell_type": "markdown",
   "metadata": {},
   "source": [
    "find()and index()"
   ]
  },
  {
   "cell_type": "code",
   "execution_count": 16,
   "metadata": {},
   "outputs": [
    {
     "name": "stdout",
     "output_type": "stream",
     "text": [
      "2\n",
      "8\n",
      "-1\n"
     ]
    }
   ],
   "source": [
    "a='This is a message'\n",
    "print(a.find(\"is\"))\n",
    "print(a.index('a'))\n",
    "print(a.find(\"that\"))\n",
    "print(a.find(\"is\",3))#start from index 3 \n",
    "#index "
   ]
  },
  {
   "cell_type": "code",
   "execution_count": 18,
   "metadata": {},
   "outputs": [
    {
     "name": "stdout",
     "output_type": "stream",
     "text": [
      "Thwas was a message\n",
      "This is a letter\n",
      "This is a lekker\n"
     ]
    }
   ],
   "source": [
    "b=a.replace(\"is\",\"was\")\n",
    "print(b)\n",
    "c=b.replace(\"message\",'letter').replace(\"was\",\"is\")\n",
    "print(c)\n",
    "d=c.replace(\"t\",\"k\",2)\n",
    "print(d)"
   ]
  },
  {
   "cell_type": "code",
   "execution_count": 19,
   "metadata": {},
   "outputs": [
    {
     "data": {
      "text/plain": [
       "'hello'"
      ]
     },
     "execution_count": 19,
     "metadata": {},
     "output_type": "execute_result"
    }
   ],
   "source": [
    "data=\"he!!!!llo\"\n",
    "data.replace('!',\"\")\n"
   ]
  },
  {
   "cell_type": "code",
   "execution_count": 25,
   "metadata": {},
   "outputs": [
    {
     "data": {
      "text/plain": [
       "'h!!!!'"
      ]
     },
     "execution_count": 25,
     "metadata": {},
     "output_type": "execute_result"
    }
   ],
   "source": [
    "#wap to remove all vowels from string\n",
    "data=\"he!!!!o\"\n",
    "data.replace('e',\"\").replace(\"o\",\"\")\n"
   ]
  },
  {
   "cell_type": "code",
   "execution_count": 28,
   "metadata": {},
   "outputs": [
    {
     "name": "stdout",
     "output_type": "stream",
     "text": [
      "4\n",
      "2\n",
      "3\n",
      "1\n",
      "0\n"
     ]
    }
   ],
   "source": [
    "#count\n",
    "msg=\"one two three one two\"\n",
    "print(msg.count(\"o\"))\n",
    "print(msg.count(\"w\"))\n",
    "print(msg.count(\"t\"))\n",
    "print(msg.count(\"ee\"))\n",
    "print(msg.count(\"four\"))"
   ]
  },
  {
   "cell_type": "code",
   "execution_count": 31,
   "metadata": {},
   "outputs": [
    {
     "name": "stdout",
     "output_type": "stream",
     "text": [
      "15   muskan yadav \n",
      "12 muskan yadav\n"
     ]
    }
   ],
   "source": [
    "#strip\n",
    "name= \"  muskan yadav \"\n",
    "print(len(name),name)\n",
    "clean_name=name.strip()\n",
    "print(len(clean_name),clean_name)\n"
   ]
  },
  {
   "cell_type": "markdown",
   "metadata": {},
   "source": []
  },
  {
   "cell_type": "code",
   "execution_count": 48,
   "metadata": {},
   "outputs": [
    {
     "name": "stdout",
     "output_type": "stream",
     "text": [
      "JOHN\n",
      "ALEX\n",
      "JANE\n",
      "ALEXA\n",
      "JACOB\n"
     ]
    }
   ],
   "source": [
    "names=[\n",
    "    'john',\n",
    "    ' alex',\n",
    "    ' jane',\n",
    "    'alexa  ',\n",
    "    ' jacob',\n",
    "\n",
    "]\n",
    "for n in names:\n",
    "    print(n.strip().upper())"
   ]
  },
  {
   "cell_type": "code",
   "execution_count": null,
   "metadata": {},
   "outputs": [],
   "source": []
  }
 ],
 "metadata": {
  "kernelspec": {
   "display_name": "base",
   "language": "python",
   "name": "python3"
  },
  "language_info": {
   "codemirror_mode": {
    "name": "ipython",
    "version": 3
   },
   "file_extension": ".py",
   "mimetype": "text/x-python",
   "name": "python",
   "nbconvert_exporter": "python",
   "pygments_lexer": "ipython3",
   "version": "3.12.3"
  }
 },
 "nbformat": 4,
 "nbformat_minor": 2
}
