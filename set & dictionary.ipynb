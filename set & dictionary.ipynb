{
 "cells": [
  {
   "cell_type": "markdown",
   "metadata": {},
   "source": [
    "# set\n",
    "- create\n",
    "- method"
   ]
  },
  {
   "cell_type": "code",
   "execution_count": 1,
   "metadata": {},
   "outputs": [
    {
     "name": "stdout",
     "output_type": "stream",
     "text": [
      "set()\n",
      "{1, 2, 3, 4, 5, 6}\n",
      "{'apple', 'cherry', 'banana'}\n",
      "{'apple', 3.14, 205, 'banana'}\n",
      "{1, 2, 3, 4, 5, 6, 7, 8, 9, 10}\n",
      "{' ', 'e', 'a', 'r', 'h', 'p', 't', 'y', 'o'}\n"
     ]
    }
   ],
   "source": [
    "x=set() # empty\n",
    "print(x)\n",
    "y={1,2,3,4,5,6,1,2}\n",
    "print(y)\n",
    "fruit={\"apple\",\"banana\",\"cherry\"}\n",
    "print(fruit)\n",
    "data={\"apple\",205,3.14,\"banana\"}\n",
    "print(data)\n",
    "a=set([1,2,3,4,5,6,7,8,9,10])\n",
    "b=set(\"harry potter\")\n",
    "print(a)\n",
    "print(b)"
   ]
  },
  {
   "cell_type": "code",
   "execution_count": 2,
   "metadata": {},
   "outputs": [
    {
     "name": "stdout",
     "output_type": "stream",
     "text": [
      "{'the well of ascension', 'the final empire', 'the hero of ages'}\n"
     ]
    }
   ],
   "source": [
    "a=set()\n",
    "a.add(\"the final empire\")\n",
    "a.add(\"the hero of ages\")\n",
    "a.add(\"the well of ascension\")\n",
    "print(a)\n"
   ]
  },
  {
   "cell_type": "code",
   "execution_count": 3,
   "metadata": {},
   "outputs": [
    {
     "name": "stdout",
     "output_type": "stream",
     "text": [
      "{'the final empire', 'appleseed', 'the well of ascension', 'the hero of ages', 'appleCider', 'applepie'}\n"
     ]
    }
   ],
   "source": [
    "a.update([\"appleseed\",\"applepie\",\"appleCider\"]) # same value not de added\n",
    "print(a)"
   ]
  },
  {
   "cell_type": "code",
   "execution_count": 4,
   "metadata": {},
   "outputs": [
    {
     "name": "stdout",
     "output_type": "stream",
     "text": [
      "{'the final empire', 'appleseed', 'the well of ascension', 'the hero of ages', 'appleCider', 'applepie'}\n"
     ]
    }
   ],
   "source": [
    "a.add(\"appleseed\")# not added\n",
    "print(a)# not dublicey"
   ]
  },
  {
   "cell_type": "code",
   "execution_count": 5,
   "metadata": {},
   "outputs": [
    {
     "name": "stdout",
     "output_type": "stream",
     "text": [
      "{'the final empire', 'the well of ascension', 'the hero of ages', 'appleCider'}\n"
     ]
    }
   ],
   "source": [
    "a.discard(\"appleseed\")\n",
    "a.discard(\"applepie\") # no error \n",
    "a.discard(\"appleseed\")\n",
    "print(a)"
   ]
  },
  {
   "cell_type": "code",
   "execution_count": 6,
   "metadata": {},
   "outputs": [
    {
     "name": "stdout",
     "output_type": "stream",
     "text": [
      "{1, 2, 3, 4, 5}\n",
      "{1, 2, 3, 4, 5, 6, 7, 8}\n",
      "{1, 2, 3, 4, 5, 6, 7, 8}\n"
     ]
    }
   ],
   "source": [
    "a={1,2,3}\n",
    "b={3,4,5}\n",
    "c={6,7,8}\n",
    "\n",
    "ab=(a.union(b))\n",
    "print(ab)\n",
    "\n",
    "print(a.union(b,c))# all the value are included\n",
    "print(a|b|c)"
   ]
  },
  {
   "cell_type": "code",
   "execution_count": 7,
   "metadata": {},
   "outputs": [
    {
     "name": "stdout",
     "output_type": "stream",
     "text": [
      "{3}\n",
      "{3}\n",
      "set()\n",
      "set()\n"
     ]
    }
   ],
   "source": [
    "print(a.intersection(b))\n",
    "print(a & b) # & is intersection\n",
    "print(a & c)\n",
    "print(a & b & c)\n"
   ]
  },
  {
   "cell_type": "code",
   "execution_count": 8,
   "metadata": {},
   "outputs": [
    {
     "name": "stdout",
     "output_type": "stream",
     "text": [
      "{1, 2}\n",
      "{4, 5}\n",
      "{1, 2}\n"
     ]
    }
   ],
   "source": [
    "print(a.difference(b))\n",
    "print(b.difference(a))\n",
    "print(a-b) # - is difference"
   ]
  },
  {
   "cell_type": "code",
   "execution_count": 9,
   "metadata": {},
   "outputs": [
    {
     "name": "stdout",
     "output_type": "stream",
     "text": [
      "{1, 2, 4, 5}\n",
      "{1, 2, 4, 5}\n"
     ]
    }
   ],
   "source": [
    "print(a.symmetric_difference(b))\n",
    "print(a^b) # ^ is symmetric difference"
   ]
  },
  {
   "cell_type": "code",
   "execution_count": null,
   "metadata": {},
   "outputs": [],
   "source": []
  }
 ],
 "metadata": {
  "kernelspec": {
   "display_name": "base",
   "language": "python",
   "name": "python3"
  },
  "language_info": {
   "codemirror_mode": {
    "name": "ipython",
    "version": 3
   },
   "file_extension": ".py",
   "mimetype": "text/x-python",
   "name": "python",
   "nbconvert_exporter": "python",
   "pygments_lexer": "ipython3",
   "version": "3.12.3"
  }
 },
 "nbformat": 4,
 "nbformat_minor": 2
}
