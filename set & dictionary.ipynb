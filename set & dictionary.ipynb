{
 "cells": [
  {
   "cell_type": "markdown",
   "metadata": {},
   "source": [
    "# set\n",
    "- create\n",
    "- method"
   ]
  },
  {
   "cell_type": "code",
   "execution_count": 1,
   "metadata": {},
   "outputs": [
    {
     "name": "stdout",
     "output_type": "stream",
     "text": [
      "set()\n",
      "{1, 2, 3, 4, 5, 6}\n",
      "{'apple', 'cherry', 'banana'}\n",
      "{'apple', 3.14, 205, 'banana'}\n",
      "{1, 2, 3, 4, 5, 6, 7, 8, 9, 10}\n",
      "{' ', 'e', 'a', 'r', 'h', 'p', 't', 'y', 'o'}\n"
     ]
    }
   ],
   "source": [
    "x=set() # empty\n",
    "print(x)\n",
    "y={1,2,3,4,5,6,1,2}\n",
    "print(y)\n",
    "fruit={\"apple\",\"banana\",\"cherry\"}\n",
    "print(fruit)\n",
    "data={\"apple\",205,3.14,\"banana\"}\n",
    "print(data)\n",
    "a=set([1,2,3,4,5,6,7,8,9,10])\n",
    "b=set(\"harry potter\")\n",
    "print(a)\n",
    "print(b)"
   ]
  },
  {
   "cell_type": "code",
   "execution_count": 2,
   "metadata": {},
   "outputs": [
    {
     "name": "stdout",
     "output_type": "stream",
     "text": [
      "{'the well of ascension', 'the final empire', 'the hero of ages'}\n"
     ]
    }
   ],
   "source": [
    "a=set()\n",
    "a.add(\"the final empire\")\n",
    "a.add(\"the hero of ages\")\n",
    "a.add(\"the well of ascension\")\n",
    "print(a)\n"
   ]
  },
  {
   "cell_type": "code",
   "execution_count": 3,
   "metadata": {},
   "outputs": [
    {
     "name": "stdout",
     "output_type": "stream",
     "text": [
      "{'the final empire', 'appleseed', 'the well of ascension', 'the hero of ages', 'appleCider', 'applepie'}\n"
     ]
    }
   ],
   "source": [
    "a.update([\"appleseed\",\"applepie\",\"appleCider\"]) # same value not de added\n",
    "print(a)"
   ]
  },
  {
   "cell_type": "code",
   "execution_count": 4,
   "metadata": {},
   "outputs": [
    {
     "name": "stdout",
     "output_type": "stream",
     "text": [
      "{'the final empire', 'appleseed', 'the well of ascension', 'the hero of ages', 'appleCider', 'applepie'}\n"
     ]
    }
   ],
   "source": [
    "a.add(\"appleseed\")# not added\n",
    "print(a)# not dublicey"
   ]
  },
  {
   "cell_type": "code",
   "execution_count": 5,
   "metadata": {},
   "outputs": [
    {
     "name": "stdout",
     "output_type": "stream",
     "text": [
      "{'the final empire', 'the well of ascension', 'the hero of ages', 'appleCider'}\n"
     ]
    }
   ],
   "source": [
    "a.discard(\"appleseed\")\n",
    "a.discard(\"applepie\") # no error \n",
    "a.discard(\"appleseed\")\n",
    "print(a)"
   ]
  },
  {
   "cell_type": "code",
   "execution_count": 6,
   "metadata": {},
   "outputs": [
    {
     "name": "stdout",
     "output_type": "stream",
     "text": [
      "{1, 2, 3, 4, 5}\n",
      "{1, 2, 3, 4, 5, 6, 7, 8}\n",
      "{1, 2, 3, 4, 5, 6, 7, 8}\n"
     ]
    }
   ],
   "source": [
    "a={1,2,3}\n",
    "b={3,4,5}\n",
    "c={6,7,8}\n",
    "\n",
    "ab=(a.union(b))\n",
    "print(ab)\n",
    "\n",
    "print(a.union(b,c))# all the value are included\n",
    "print(a|b|c)"
   ]
  },
  {
   "cell_type": "code",
   "execution_count": 7,
   "metadata": {},
   "outputs": [
    {
     "name": "stdout",
     "output_type": "stream",
     "text": [
      "{3}\n",
      "{3}\n",
      "set()\n",
      "set()\n"
     ]
    }
   ],
   "source": [
    "print(a.intersection(b))\n",
    "print(a & b) # & is intersection\n",
    "print(a & c)\n",
    "print(a & b & c)\n"
   ]
  },
  {
   "cell_type": "code",
   "execution_count": 8,
   "metadata": {},
   "outputs": [
    {
     "name": "stdout",
     "output_type": "stream",
     "text": [
      "{1, 2}\n",
      "{4, 5}\n",
      "{1, 2}\n"
     ]
    }
   ],
   "source": [
    "print(a.difference(b))\n",
    "print(b.difference(a))\n",
    "print(a-b) # - is difference"
   ]
  },
  {
   "cell_type": "code",
   "execution_count": 9,
   "metadata": {},
   "outputs": [
    {
     "name": "stdout",
     "output_type": "stream",
     "text": [
      "{1, 2, 4, 5}\n",
      "{1, 2, 4, 5}\n"
     ]
    }
   ],
   "source": [
    "print(a.symmetric_difference(b))\n",
    "print(a^b) # ^ is symmetric difference"
   ]
  },
  {
   "cell_type": "markdown",
   "metadata": {},
   "source": [
    "# Dictionary\n"
   ]
  },
  {
   "cell_type": "code",
   "execution_count": 6,
   "metadata": {},
   "outputs": [
    {
     "name": "stdout",
     "output_type": "stream",
     "text": [
      "{'name': 'alex', 'isMarried': True, 'haschildren': False, 'age': 29, 'city': 'new york', 'profession': 'photographer'}\n",
      "{'food': 400, 'rent': 300, 'insurance': 100}\n"
     ]
    }
   ],
   "source": [
    "data=[\"alex\",True,False,29,\"new york\",\"photographer\"]\n",
    "datadict={\n",
    "    'name':\"alex\",\n",
    "    'isMarried':True,\n",
    "    'haschildren':False,\n",
    "    'age':29,\n",
    "    'city':'new york',\n",
    "    'profession':'photographer'\n",
    "}\n",
    "movie={} #empty dictionary\n",
    "\n",
    "expenditure=dict(\n",
    "    food=400,\n",
    "    rent=300,\n",
    "    insurance=100,\n",
    ")\n",
    "print(datadict)\n",
    "print(expenditure)"
   ]
  },
  {
   "cell_type": "code",
   "execution_count": 5,
   "metadata": {},
   "outputs": [
    {
     "data": {
      "text/plain": [
       "{'name': 'alex',\n",
       " 'isMarried': True,\n",
       " 'haschildren': False,\n",
       " 'age': 29,\n",
       " 'city': 'new york',\n",
       " 'profession': 'photographer'}"
      ]
     },
     "execution_count": 5,
     "metadata": {},
     "output_type": "execute_result"
    }
   ],
   "source": [
    "datadict"
   ]
  },
  {
   "cell_type": "markdown",
   "metadata": {},
   "source": [
    "- create \n",
    "- accessing\n",
    "- add or update\n",
    "- remove\n",
    "- traversal"
   ]
  },
  {
   "cell_type": "code",
   "execution_count": 10,
   "metadata": {},
   "outputs": [
    {
     "name": "stdout",
     "output_type": "stream",
     "text": [
      "alex\n",
      "True\n",
      "new york\n"
     ]
    }
   ],
   "source": [
    "print(datadict[\"name\"])\n",
    "print(datadict[\"isMarried\"])\n",
    "print(datadict[\"city\"])\n",
    " # print(datadict[\"state\"])"
   ]
  },
  {
   "cell_type": "code",
   "execution_count": 11,
   "metadata": {},
   "outputs": [
    {
     "name": "stdout",
     "output_type": "stream",
     "text": [
      "new york\n",
      "None\n",
      "29\n",
      "90\n"
     ]
    }
   ],
   "source": [
    "print(datadict.get('city'))\n",
    "print(datadict.get('City') )# City is not in the dictionary.\n",
    "print(datadict.get('age'))\n",
    "print(datadict.get('AGE',90)) # AGE is not in the dictionary"
   ]
  },
  {
   "cell_type": "code",
   "execution_count": 12,
   "metadata": {},
   "outputs": [
    {
     "name": "stdout",
     "output_type": "stream",
     "text": [
      "{'deadpool & wolverine': 'shawn levy', 'bahubali': ' ss rajamuouli', 'inception': 'christophor nolan', 'poobear': 'chirstophor robin'}\n"
     ]
    }
   ],
   "source": [
    "movie['deadpool & wolverine']=\"shawn levy\"\n",
    "movie['bahubali']=\" ss rajamuouli\"\n",
    "movie['inception']='christophor nolan'\n",
    "movie['poobear']='chirstophor robin'\n",
    "print(movie)\n"
   ]
  },
  {
   "cell_type": "code",
   "execution_count": 13,
   "metadata": {},
   "outputs": [
    {
     "name": "stdout",
     "output_type": "stream",
     "text": [
      "{'deadpool & wolverine': 'shawn levy', 'bahubali': ' ss rajamuouli', 'inception': 'christophor nolan', 'poobear': 'chirstophor robin', 'the dark knight': 'christopher nolan', 'the matrix': 'wachowski brother', 'the prestige': 'christopher'}\n"
     ]
    }
   ],
   "source": [
    "movie.update(\n",
    "    {\n",
    "        'the dark knight':'christopher nolan',\n",
    "        'the matrix':'wachowski brother',\n",
    "        'the prestige':'christopher'\n",
    "    }\n",
    ")\n",
    "print(movie)"
   ]
  },
  {
   "cell_type": "code",
   "execution_count": 15,
   "metadata": {},
   "outputs": [
    {
     "name": "stdout",
     "output_type": "stream",
     "text": [
      "{'name': 'alexsa', 'isMarried': True, 'haschildren': False, 'age': 29, 'city': 'new york', 'profession': 'photographer'}\n"
     ]
    }
   ],
   "source": [
    "datadict['name']=\"alexsa\"\n",
    "print(datadict)"
   ]
  },
  {
   "cell_type": "code",
   "execution_count": 18,
   "metadata": {},
   "outputs": [
    {
     "data": {
      "text/plain": [
       "7"
      ]
     },
     "execution_count": 18,
     "metadata": {},
     "output_type": "execute_result"
    }
   ],
   "source": [
    "len(movie)"
   ]
  },
  {
   "cell_type": "code",
   "execution_count": 19,
   "metadata": {},
   "outputs": [
    {
     "data": {
      "text/plain": [
       "' ss rajamuouli'"
      ]
     },
     "execution_count": 19,
     "metadata": {},
     "output_type": "execute_result"
    }
   ],
   "source": [
    "movie.pop('bahubali') # pop is remove the data form the divtionary"
   ]
  },
  {
   "cell_type": "code",
   "execution_count": 20,
   "metadata": {},
   "outputs": [
    {
     "data": {
      "text/plain": [
       "{'deadpool & wolverine': 'shawn levy',\n",
       " 'inception': 'christophor nolan',\n",
       " 'poobear': 'chirstophor robin',\n",
       " 'the dark knight': 'christopher nolan',\n",
       " 'the matrix': 'wachowski brother',\n",
       " 'the prestige': 'christopher'}"
      ]
     },
     "execution_count": 20,
     "metadata": {},
     "output_type": "execute_result"
    }
   ],
   "source": [
    "movie"
   ]
  },
  {
   "cell_type": "markdown",
   "metadata": {},
   "source": [
    "for loop in dict will iterate over key"
   ]
  },
  {
   "cell_type": "code",
   "execution_count": 21,
   "metadata": {},
   "outputs": [
    {
     "name": "stdout",
     "output_type": "stream",
     "text": [
      "name\n",
      "isMarried\n",
      "haschildren\n",
      "age\n",
      "city\n",
      "profession\n"
     ]
    }
   ],
   "source": [
    "for item in datadict:\n",
    "    print(item)"
   ]
  },
  {
   "cell_type": "code",
   "execution_count": 22,
   "metadata": {},
   "outputs": [
    {
     "name": "stdout",
     "output_type": "stream",
     "text": [
      "alexsa\n",
      "True\n",
      "False\n",
      "29\n",
      "new york\n",
      "photographer\n"
     ]
    }
   ],
   "source": [
    "for item in datadict:\n",
    "    print(datadict[item])"
   ]
  },
  {
   "cell_type": "code",
   "execution_count": 23,
   "metadata": {},
   "outputs": [
    {
     "name": "stdout",
     "output_type": "stream",
     "text": [
      "name alexsa\n",
      "isMarried True\n",
      "haschildren False\n",
      "age 29\n",
      "city new york\n",
      "profession photographer\n"
     ]
    }
   ],
   "source": [
    "for k,v in datadict.items():\n",
    "    print(k,v)"
   ]
  },
  {
   "cell_type": "code",
   "execution_count": 29,
   "metadata": {},
   "outputs": [
    {
     "data": {
      "text/plain": [
       "dict_keys(['deadpool & wolverine', 'inception', 'poobear', 'the dark knight', 'the matrix', 'the prestige'])"
      ]
     },
     "execution_count": 29,
     "metadata": {},
     "output_type": "execute_result"
    }
   ],
   "source": [
    "movie.keys()"
   ]
  },
  {
   "cell_type": "code",
   "execution_count": 31,
   "metadata": {},
   "outputs": [
    {
     "data": {
      "text/plain": [
       "dict_values(['shawn levy', 'christophor nolan', 'chirstophor robin', 'christopher nolan', 'wachowski brother', 'christopher'])"
      ]
     },
     "execution_count": 31,
     "metadata": {},
     "output_type": "execute_result"
    }
   ],
   "source": [
    "movie.values()"
   ]
  },
  {
   "cell_type": "code",
   "execution_count": 42,
   "metadata": {},
   "outputs": [],
   "source": [
    "report={\n",
    "    '01': {\n",
    "        'name':\"alex\",\n",
    "    'subject':{\n",
    "            \"math\":80,\n",
    "        \"history\":90,\n",
    "        \"science\":70\n",
    "    }\n",
    "    },\n",
    "    '02': {  \n",
    "        'name':\"lio\",\n",
    "        \"subject\":{\n",
    "            \"maths\":45,\n",
    "            \"english\":69,\n",
    "            \"commerce\":60\n",
    "\n",
    "    }\n",
    "},\n",
    "}"
   ]
  },
  {
   "cell_type": "code",
   "execution_count": 43,
   "metadata": {},
   "outputs": [
    {
     "data": {
      "text/plain": [
       "69"
      ]
     },
     "execution_count": 43,
     "metadata": {},
     "output_type": "execute_result"
    }
   ],
   "source": [
    "report[\"02\"][\"subject\"][\"english\"]"
   ]
  },
  {
   "cell_type": "code",
   "execution_count": null,
   "metadata": {},
   "outputs": [],
   "source": [
    "from pprint import pp"
   ]
  },
  {
   "cell_type": "code",
   "execution_count": null,
   "metadata": {},
   "outputs": [],
   "source": [
    "pp(report)"
   ]
  },
  {
   "cell_type": "code",
   "execution_count": 44,
   "metadata": {},
   "outputs": [
    {
     "name": "stdout",
     "output_type": "stream",
     "text": [
      "{'year': [2001, 2019, 2020, 2019, 2023], 'rainfall': [2023, 2004, 2009, 2001]}\n"
     ]
    }
   ],
   "source": [
    "rainfall_data={\n",
    "    'year':[2001,2019,2020,2019,2023],\n",
    "    'rainfall':[2023,2004,2009,2001]\n",
    "}\n",
    "print(rainfall_data)"
   ]
  },
  {
   "cell_type": "code",
   "execution_count": null,
   "metadata": {},
   "outputs": [],
   "source": []
  }
 ],
 "metadata": {
  "kernelspec": {
   "display_name": "base",
   "language": "python",
   "name": "python3"
  },
  "language_info": {
   "codemirror_mode": {
    "name": "ipython",
    "version": 3
   },
   "file_extension": ".py",
   "mimetype": "text/x-python",
   "name": "python",
   "nbconvert_exporter": "python",
   "pygments_lexer": "ipython3",
   "version": "3.12.3"
  }
 },
 "nbformat": 4,
 "nbformat_minor": 2
}
