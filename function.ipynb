{
 "cells": [
  {
   "cell_type": "code",
   "execution_count": 1,
   "metadata": {},
   "outputs": [],
   "source": [
    "def si(p,r,t):\n",
    "    return p*r*t/100"
   ]
  },
  {
   "cell_type": "code",
   "execution_count": 2,
   "metadata": {},
   "outputs": [
    {
     "data": {
      "text/plain": [
       "2242.5"
      ]
     },
     "execution_count": 2,
     "metadata": {},
     "output_type": "execute_result"
    }
   ],
   "source": [
    "si(13000,3.45,5)"
   ]
  },
  {
   "cell_type": "code",
   "execution_count": 3,
   "metadata": {},
   "outputs": [],
   "source": [
    "def info(l,w):\n",
    "    area=l*w\n",
    "    perameter=2*(l+w)\n",
    "    return area,perameter"
   ]
  },
  {
   "cell_type": "code",
   "execution_count": 4,
   "metadata": {},
   "outputs": [
    {
     "data": {
      "text/plain": [
       "(1200, 140)"
      ]
     },
     "execution_count": 4,
     "metadata": {},
     "output_type": "execute_result"
    }
   ],
   "source": [
    "info(30,40)"
   ]
  },
  {
   "cell_type": "code",
   "execution_count": 7,
   "metadata": {},
   "outputs": [
    {
     "name": "stdout",
     "output_type": "stream",
     "text": [
      "area:300,perameter:80\n"
     ]
    }
   ],
   "source": [
    "a,p=info(30,10) # tuple unpeacking\n",
    "print(f\"area:{a},perameter:{p}\")"
   ]
  },
  {
   "cell_type": "code",
   "execution_count": 12,
   "metadata": {},
   "outputs": [],
   "source": [
    "def acronym(name):\n",
    "    result=\"\"\n",
    "    for word in name.split():\n",
    "        # print(word[0])\n",
    "        result+=word[0] # first letter\n",
    "    return result"
   ]
  },
  {
   "cell_type": "code",
   "execution_count": 15,
   "metadata": {},
   "outputs": [
    {
     "data": {
      "text/plain": [
       "'MASk'"
      ]
     },
     "execution_count": 15,
     "metadata": {},
     "output_type": "execute_result"
    }
   ],
   "source": [
    "acronym(\"Muskan Anshika Soni kaushiki\")"
   ]
  },
  {
   "cell_type": "code",
   "execution_count": 16,
   "metadata": {},
   "outputs": [
    {
     "name": "stdout",
     "output_type": "stream",
     "text": [
      "['Akshaya Kumar', 'Shaurya Sharma ', 'Kritika']\n",
      "['AK', 'SS', 'K']\n"
     ]
    }
   ],
   "source": [
    "names=[\"Akshaya Kumar\",\"Shaurya Sharma \",\"Kritika\"]\n",
    "acr=[acronym (name) for name in names ]\n",
    "print(names)\n",
    "print(acr)"
   ]
  },
  {
   "cell_type": "code",
   "execution_count": 17,
   "metadata": {},
   "outputs": [
    {
     "name": "stdout",
     "output_type": "stream",
     "text": [
      "27\n",
      "81\n",
      "243\n"
     ]
    }
   ],
   "source": [
    "# default perameter\n",
    "def power(number,exp=3):\n",
    "    return number ** exp\n",
    "print(power(3))\n",
    "print(power(3,4))\n",
    "print(power(3,5))"
   ]
  },
  {
   "cell_type": "code",
   "execution_count": 18,
   "metadata": {},
   "outputs": [
    {
     "name": "stdout",
     "output_type": "stream",
     "text": [
      "17\n",
      "12\n",
      "6\n"
     ]
    }
   ],
   "source": [
    "# set the defualt perameter\n",
    "def summer(a=0,b=0,c=0,d=0):\n",
    "    return a+b+c+d\n",
    "print(summer(a=8,b=6,d=3))\n",
    "print(summer(a=9,b=3))\n",
    "print(summer(a=3,b=2,c=1))"
   ]
  },
  {
   "cell_type": "code",
   "execution_count": 21,
   "metadata": {},
   "outputs": [
    {
     "name": "stdout",
     "output_type": "stream",
     "text": [
      "100\n",
      "4\n",
      "25.0\n",
      "10\n"
     ]
    }
   ],
   "source": [
    "def stats(*numbers,action=\"sum\"):\n",
    "    if action==\"sum\":\n",
    "        return sum(numbers)\n",
    "    if action==\"mean\":\n",
    "        return sum(numbers)/len(numbers)\n",
    "    if action==\"min\":\n",
    "        return min(numbers)\n",
    "    if action==\"count\":\n",
    "        return len(numbers)\n",
    "    \n",
    "print(stats(10,20,30,40))\n",
    "print(stats(10,20,30,40,action=\"count\"))\n",
    "print(stats(10,20,30,40,action=\"mean\"))\n",
    "print(stats(10,20,30,40,action=\"min\"))"
   ]
  },
  {
   "cell_type": "code",
   "execution_count": 22,
   "metadata": {},
   "outputs": [],
   "source": [
    "# any function is not returning anythig is returning None\n",
    "def greeting():\n",
    "    print('hello')\n",
    "    print(\"world\")"
   ]
  },
  {
   "cell_type": "code",
   "execution_count": 23,
   "metadata": {},
   "outputs": [
    {
     "name": "stdout",
     "output_type": "stream",
     "text": [
      "hello\n",
      "world\n",
      "None\n"
     ]
    }
   ],
   "source": [
    "print(greeting())"
   ]
  },
  {
   "cell_type": "code",
   "execution_count": 25,
   "metadata": {},
   "outputs": [
    {
     "name": "stdout",
     "output_type": "stream",
     "text": [
      "[1, 4, 9, 16, 25]\n",
      "[8, 27, 64, 125]\n"
     ]
    }
   ],
   "source": [
    "# higher order function\n",
    "def apply(func,data):\n",
    "    return[func(x) for x in data]\n",
    "\n",
    "def square(x):\n",
    "    return x**2\n",
    "\n",
    "def cube(x):\n",
    "    return x**3\n",
    "\n",
    "# implement a function that takes a list of numbers and a function\n",
    "ans=apply(square,[1,2,3,4,5])\n",
    "print(ans)\n",
    "ans=apply(cube,[2,3,4,5])\n",
    "print(ans)"
   ]
  },
  {
   "cell_type": "code",
   "execution_count": 26,
   "metadata": {},
   "outputs": [
    {
     "name": "stdout",
     "output_type": "stream",
     "text": [
      "<function <lambda> at 0x0000016E34CF2700>\n",
      "14\n",
      "19\n",
      "110\n"
     ]
    }
   ],
   "source": [
    "f=lambda x:x**2+10\n",
    "print(f)\n",
    "print(f(2))\n",
    "print(f(3))\n",
    "print(f(10))"
   ]
  },
  {
   "cell_type": "code",
   "execution_count": 27,
   "metadata": {},
   "outputs": [
    {
     "name": "stdout",
     "output_type": "stream",
     "text": [
      "11\n",
      "19\n",
      "112\n",
      "40\n"
     ]
    }
   ],
   "source": [
    "g=lambda x,y:x*2+y*2-x+y\n",
    "print(g(2,3))\n",
    "print(g(4,5))\n",
    "print(g(22,30))\n",
    "print(g(10,10))"
   ]
  },
  {
   "cell_type": "markdown",
   "metadata": {},
   "source": [
    "- map and fiter using lambda"
   ]
  },
  {
   "cell_type": "code",
   "execution_count": 2,
   "metadata": {},
   "outputs": [
    {
     "name": "stdout",
     "output_type": "stream",
     "text": [
      "[1, 8, 27, 64, 125, 216, 343]\n",
      "[1, 8, 27, 64, 125, 216, 343]\n",
      "[1, 8, 27, 64, 125, 216, 343]\n"
     ]
    }
   ],
   "source": [
    "x=[1,2,3,4,5,6,7]\n",
    "# style-1\n",
    "x3=[]\n",
    "for i in x:\n",
    "    x3.append(i**3)\n",
    "print(x3)\n",
    "\n",
    "#style-2\n",
    "x3=[i**3 for i in x]\n",
    "print(x3)\n",
    "\n",
    "#style-3\n",
    "x3=list(map(lambda i:i**3,x)) #set, tuple()\n",
    "print(x3)"
   ]
  },
  {
   "cell_type": "code",
   "execution_count": 6,
   "metadata": {},
   "outputs": [
    {
     "name": "stdout",
     "output_type": "stream",
     "text": [
      "[1, 2, 3, 4, 5]\n"
     ]
    }
   ],
   "source": [
    "x=[1,2,'a','b',3,4,'g','w',5]\n",
    "nums=(filter(lambda i:isinstance(i,int),x))\n",
    "nums=list(nums)\n",
    "print(nums)"
   ]
  },
  {
   "cell_type": "code",
   "execution_count": null,
   "metadata": {},
   "outputs": [],
   "source": []
  }
 ],
 "metadata": {
  "kernelspec": {
   "display_name": "base",
   "language": "python",
   "name": "python3"
  },
  "language_info": {
   "codemirror_mode": {
    "name": "ipython",
    "version": 3
   },
   "file_extension": ".py",
   "mimetype": "text/x-python",
   "name": "python",
   "nbconvert_exporter": "python",
   "pygments_lexer": "ipython3",
   "version": "3.12.3"
  }
 },
 "nbformat": 4,
 "nbformat_minor": 2
}
