{
 "cells": [
  {
   "cell_type": "code",
   "execution_count": 1,
   "metadata": {},
   "outputs": [],
   "source": [
    "import os"
   ]
  },
  {
   "cell_type": "code",
   "execution_count": 2,
   "metadata": {},
   "outputs": [
    {
     "name": "stdout",
     "output_type": "stream",
     "text": [
      "c:\\Users\\suraj\\OneDrive\\Documents\\python dataanalytics\n"
     ]
    }
   ],
   "source": [
    "BASE_DIR=os.getcwd()\n",
    "print(BASE_DIR)"
   ]
  },
  {
   "cell_type": "code",
   "execution_count": 3,
   "metadata": {},
   "outputs": [
    {
     "name": "stdout",
     "output_type": "stream",
     "text": [
      "['.git', 'basics.ipynb', 'conditions.ipynb', 'Easy.ipynb', 'filehandiling.ipynb', 'fileheandiling.ipunb', 'function.ipynb', 'io.ipynb', 'kahani.py', 'list practice queston.ipynb', 'list.ipynb', 'loop pattern.ipynb', 'loops.ipynb', 'pattern.1.py', 'practice questio.ipynb', 'set & dictionary.ipynb', 'string question.ipynb', 'strings.ipynb']\n"
     ]
    }
   ],
   "source": [
    "content=os.listdir()\n",
    "print(content)"
   ]
  },
  {
   "cell_type": "code",
   "execution_count": 5,
   "metadata": {},
   "outputs": [
    {
     "name": "stdout",
     "output_type": "stream",
     "text": [
      "total content:24\n"
     ]
    }
   ],
   "source": [
    "addr=r'c:\\program Files'\n",
    "content=os.listdir(addr)\n",
    "print(f'total content:{len(content)}')"
   ]
  },
  {
   "cell_type": "code",
   "execution_count": 6,
   "metadata": {},
   "outputs": [
    {
     "data": {
      "text/plain": [
       "['C:\\\\']"
      ]
     },
     "execution_count": 6,
     "metadata": {},
     "output_type": "execute_result"
    }
   ],
   "source": [
    "os.listdrives()"
   ]
  },
  {
   "cell_type": "code",
   "execution_count": 9,
   "metadata": {},
   "outputs": [
    {
     "name": "stdout",
     "output_type": "stream",
     "text": [
      "['.git', 'basics.ipynb', 'conditions.ipynb', 'Easy.ipynb', 'filehandiling.ipynb', 'fileheandiling.ipunb', 'function.ipynb', 'io.ipynb', 'kahani.py', 'list practice queston.ipynb', 'list.ipynb', 'loop pattern.ipynb', 'loops.ipynb', 'pattern.1.py', 'practice questio.ipynb', 'set & dictionary.ipynb', 'string question.ipynb', 'strings.ipynb']\n"
     ]
    }
   ],
   "source": [
    "os.chdir(\"C:\")\n",
    "print(os.listdir())"
   ]
  },
  {
   "cell_type": "code",
   "execution_count": null,
   "metadata": {},
   "outputs": [],
   "source": [
    "os.getcwd()# cwd="
   ]
  },
  {
   "cell_type": "code",
   "execution_count": 11,
   "metadata": {},
   "outputs": [],
   "source": [
    "os.makedirs(\"mynotes\",exist_ok=True)"
   ]
  },
  {
   "cell_type": "markdown",
   "metadata": {},
   "source": [
    "# python file handiling \n",
    "open()-opens file resourecs and return a file obeject\n",
    "- modes\n",
    "    - 'r'-read mode(default)\n",
    "    - 'w'-write mode\n",
    "    - 'a' - append mode "
   ]
  },
  {
   "cell_type": "code",
   "execution_count": 12,
   "metadata": {},
   "outputs": [],
   "source": [
    "with open('mynotes/note1.txt','w')as file:\n",
    "    file.write('this is my first note:\\n')\n",
    "    file.write('Hey my self  Muskan yadav\\n')\n",
    "    file.write('I live in Lucknow\\n')\n",
    "    \n",
    "\n"
   ]
  },
  {
   "cell_type": "code",
   "execution_count": 24,
   "metadata": {},
   "outputs": [
    {
     "name": "stdout",
     "output_type": "stream",
     "text": [
      "['anuradha.pdf', 'anuradha_tiwari_CV (1).pdf', 'anuradha_tiwari_CV.pdf', 'Bigger Leaner Stronger_ The Simple Science Of Building The Ultimate Male Body ( PDFDrive ).pdf', 'FINAL_ACP_CLASS-_I_2020-21.pdf', 'jj (1).pdf', 'jj.pdf', 'k (1).pdf', 'k.pdf', 'paper 3 (1).pdf', 'paper 3.pdf', 'PE DOCUMENT.pdf', 'physical-education-11.pdf', 'PhysicalEducation12_2022.pdf', 'Q1 explain the educational technology and their importance in physical education-1 (1).pdf', 'Q1 explain the educational technology and their importance in physical education-1.pdf', 'resume suraj yadav.pdf', 'resume_anuradha (1).pdf', 'resume_anuradha.pdf', 'resume_anuradha_1 (1).pdf', 'resume_anuradha_1.pdf', 'Science_VIII.pdf', 'SHIVANI B.pdf', 'SHIVANI T&F .pdf', 'shop bill june.pdf', 'shop bill may.pdf', 'sj (1).pdf', 'sj.pdf', 'SURAJ  (1).pdf', 'SURAJ .pdf', 'SURAJ TRACK & FIELD  (1).pdf', 'SURAJ TRACK & FIELD .pdf', 'surajyadav (1).pdf', 'surajyadav.pdf', 'suraj_resume.pdf', 'suraj_yadav_cv (1).pdf', 'suraj_yadav_cv.pdf', 'suraj_yadav_resume (1).pdf', 'suraj_yadav_resume (2).pdf', 'suraj_yadav_resume.pdf', 'The Sports Rules Book _ Essential Rules, Terms, and Procedures for 54 Sports.pdf', 'yogita_singh_cv.pdf', 'Yogita_Singh_Resume (1).pdf', 'Yogita_Singh_Resume (2).pdf', 'Yogita_Singh_Resume.pdf']\n"
     ]
    }
   ],
   "source": [
    "item=os.listdir('c:/Users/suraj/downloads')\n",
    "pdfs=list(filter(lambda file:file.endswith(\".pdf\"),item))\n",
    "print(pdfs)"
   ]
  },
  {
   "cell_type": "code",
   "execution_count": 27,
   "metadata": {},
   "outputs": [
    {
     "name": "stdout",
     "output_type": "stream",
     "text": [
      "anuradha.pdf                                       216.68 KB\n",
      "anuradha_tiwari_CV (1).pdf                         231.93 KB\n",
      "anuradha_tiwari_CV.pdf                             231.93 KB\n",
      "Bigger Leaner Stronger_ The Simple Science Of Building The Ultimate Male Body ( PDFDrive ).pdf 4966.53 KB\n",
      "FINAL_ACP_CLASS-_I_2020-21.pdf                     3608.12 KB\n",
      "jj (1).pdf                                         67.37 KB\n",
      "jj.pdf                                             65.60 KB\n",
      "k (1).pdf                                          132.57 KB\n",
      "k.pdf                                              132.57 KB\n",
      "paper 3 (1).pdf                                    95.90 KB\n",
      "paper 3.pdf                                        95.90 KB\n",
      "PE DOCUMENT.pdf                                    467.47 KB\n",
      "physical-education-11.pdf                          7545.42 KB\n",
      "PhysicalEducation12_2022.pdf                       19580.81 KB\n",
      "Q1 explain the educational technology and their importance in physical education-1 (1).pdf 147.36 KB\n",
      "Q1 explain the educational technology and their importance in physical education-1.pdf 147.36 KB\n",
      "resume suraj yadav.pdf                             112.79 KB\n",
      "resume_anuradha (1).pdf                            77.44 KB\n",
      "resume_anuradha.pdf                                76.70 KB\n",
      "resume_anuradha_1 (1).pdf                          86.11 KB\n",
      "resume_anuradha_1.pdf                              77.44 KB\n",
      "Science_VIII.pdf                                   664.61 KB\n",
      "SHIVANI B.pdf                                      21.06 KB\n",
      "SHIVANI T&F .pdf                                   21.59 KB\n",
      "shop bill june.pdf                                 103.92 KB\n",
      "shop bill may.pdf                                  103.89 KB\n",
      "sj (1).pdf                                         112.41 KB\n",
      "sj.pdf                                             112.41 KB\n",
      "SURAJ  (1).pdf                                     20.98 KB\n",
      "SURAJ .pdf                                         20.98 KB\n",
      "SURAJ TRACK & FIELD  (1).pdf                       21.42 KB\n",
      "SURAJ TRACK & FIELD .pdf                           21.42 KB\n",
      "surajyadav (1).pdf                                 171.72 KB\n",
      "surajyadav.pdf                                     77.63 KB\n",
      "suraj_resume.pdf                                   93.21 KB\n",
      "suraj_yadav_cv (1).pdf                             192.92 KB\n",
      "suraj_yadav_cv.pdf                                 192.92 KB\n",
      "suraj_yadav_resume (1).pdf                         93.21 KB\n",
      "suraj_yadav_resume (2).pdf                         93.21 KB\n",
      "suraj_yadav_resume.pdf                             93.21 KB\n",
      "The Sports Rules Book _ Essential Rules, Terms, and Procedures for 54 Sports.pdf 8525.22 KB\n",
      "yogita_singh_cv.pdf                                143.81 KB\n",
      "Yogita_Singh_Resume (1).pdf                        67.21 KB\n",
      "Yogita_Singh_Resume (2).pdf                        87.66 KB\n",
      "Yogita_Singh_Resume.pdf                            66.48 KB\n"
     ]
    }
   ],
   "source": [
    "for file in pdfs:\n",
    "    path=f'c:/users/suraj/downloads/{file}'\n",
    "    size=os.path.getsize(path)\n",
    "    print(f\"{file:50} {size/1024:.2f} KB\")"
   ]
  },
  {
   "cell_type": "code",
   "execution_count": null,
   "metadata": {},
   "outputs": [],
   "source": []
  }
 ],
 "metadata": {
  "kernelspec": {
   "display_name": "base",
   "language": "python",
   "name": "python3"
  },
  "language_info": {
   "codemirror_mode": {
    "name": "ipython",
    "version": 3
   },
   "file_extension": ".py",
   "mimetype": "text/x-python",
   "name": "python",
   "nbconvert_exporter": "python",
   "pygments_lexer": "ipython3",
   "version": "3.12.3"
  }
 },
 "nbformat": 4,
 "nbformat_minor": 2
}
