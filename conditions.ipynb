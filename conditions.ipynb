{
 "cells": [
  {
   "cell_type": "markdown",
   "metadata": {},
   "source": [
    "condition\n",
    "- if\n",
    "- if else\n",
    "- if elif\n",
    "- match case"
   ]
  },
  {
   "cell_type": "markdown",
   "metadata": {},
   "source": [
    "if expr:\n",
    "    statement 1\n",
    "    statement 2\n",
    "    ....\n",
    "    statement n\n"
   ]
  },
  {
   "cell_type": "code",
   "execution_count": 2,
   "metadata": {},
   "outputs": [],
   "source": [
    "name= input (\"enter your name\")\n",
    "if  len(name)>=10:\n",
    "    print(\"you have very big name\")"
   ]
  },
  {
   "cell_type": "markdown",
   "metadata": {},
   "source": []
  },
  {
   "cell_type": "code",
   "execution_count": 4,
   "metadata": {},
   "outputs": [
    {
     "name": "stdout",
     "output_type": "stream",
     "text": [
      "you dont have name\n",
      "consize name\n",
      "standard name,nothing special\n"
     ]
    }
   ],
   "source": [
    "name= input(\"enter your name\")\n",
    "if len(name) == 0:\n",
    "    print(\"you dont have name\")\n",
    "if len(name)<=4:\n",
    "    print(\"consize name\")\n",
    "if len(name)< 10:\n",
    "    print(\"standard name,nothing special\")\n",
    "if len(name)>=10:\n",
    "    print(\"you have a very big name\")\n"
   ]
  },
  {
   "cell_type": "code",
   "execution_count": 5,
   "metadata": {},
   "outputs": [
    {
     "name": "stdout",
     "output_type": "stream",
     "text": [
      "odd\n"
     ]
    }
   ],
   "source": [
    "num= 12039045\n",
    "if num % 2 == 0:\n",
    "    print(\"even\")\n",
    "else:\n",
    "    print(\"odd\")\n"
   ]
  },
  {
   "cell_type": "code",
   "execution_count": 6,
   "metadata": {},
   "outputs": [
    {
     "name": "stdout",
     "output_type": "stream",
     "text": [
      "kaun ho tum\n"
     ]
    }
   ],
   "source": [
    "username = input (\"enter username\")\n",
    "password= input (\"enter passward\")\n",
    "if username == \"admin\" and password ==\"admin\":\n",
    "    print(\"welcome user\")\n",
    "else:\n",
    "    print(\"kaun ho tum\")"
   ]
  },
  {
   "cell_type": "code",
   "execution_count": 11,
   "metadata": {},
   "outputs": [
    {
     "name": "stdout",
     "output_type": "stream",
     "text": [
      "nice you got B Grade\n"
     ]
    }
   ],
   "source": [
    "# if - elif ladder\n",
    "marks= int(input(\"how much marks =>\"))\n",
    "if marks > 85:\n",
    "    print(\"you got A Grade\")\n",
    "elif marks >= 70:\n",
    "    print(\"nice you got B Grade\")\n",
    "elif marks >=50:\n",
    "    print(\"you got C Grade\")\n",
    "else:\n",
    "    print(\"fail,better luck next year\")"
   ]
  },
  {
   "cell_type": "code",
   "execution_count": 16,
   "metadata": {},
   "outputs": [
    {
     "name": "stdout",
     "output_type": "stream",
     "text": [
      "welcome user\n"
     ]
    }
   ],
   "source": [
    "# nested conditons\n",
    "username = input (\"username:\")\n",
    "password = input (\"password:\")\n",
    "if username !='':\n",
    "    if username == \"admin\":\n",
    "        if password ==\"admin\":\n",
    "            print(\"welcome user\")\n",
    "        else:\n",
    "            print(\"password donot match\")\n",
    "    else:\n",
    "         print(\"username does not exits\")\n",
    "else:\n",
    "    print(\"credential cant be blanks\")\n",
    "\n"
   ]
  },
  {
   "cell_type": "code",
   "execution_count": null,
   "metadata": {},
   "outputs": [],
   "source": [
    "age= int(input(\"enter your age\"))\n",
    "match age:\n",
    "    case 1:\n",
    "        print(\"you are still young\")\n",
    "        "
   ]
  },
  {
   "cell_type": "code",
   "execution_count": null,
   "metadata": {},
   "outputs": [],
   "source": []
  }
 ],
 "metadata": {
  "kernelspec": {
   "display_name": "base",
   "language": "python",
   "name": "python3"
  },
  "language_info": {
   "codemirror_mode": {
    "name": "ipython",
    "version": 3
   },
   "file_extension": ".py",
   "mimetype": "text/x-python",
   "name": "python",
   "nbconvert_exporter": "python",
   "pygments_lexer": "ipython3",
   "version": "3.12.3"
  }
 },
 "nbformat": 4,
 "nbformat_minor": 2
}
