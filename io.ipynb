{
 "cells": [
  {
   "cell_type": "code",
   "execution_count": null,
   "metadata": {},
   "outputs": [],
   "source": [
    "p=12000\n",
    "r=10.49\n",
    "t=6\n",
    "si=p*r*t/100\n"
   ]
  },
  {
   "cell_type": "code",
   "execution_count": 1,
   "metadata": {},
   "outputs": [
    {
     "data": {
      "text/plain": [
       "'muskan'"
      ]
     },
     "execution_count": 1,
     "metadata": {},
     "output_type": "execute_result"
    }
   ],
   "source": [
    "input(\"enter your name\")"
   ]
  },
  {
   "cell_type": "code",
   "execution_count": 4,
   "metadata": {},
   "outputs": [],
   "source": [
    "name=input('enter your name')\n",
    "city=input('enter your city')\n",
    "colour=input('enter your favorite colour')\n",
    "age=input('enter your age')\n",
    "luckynum=input('enter your lucky number')\n"
   ]
  },
  {
   "cell_type": "code",
   "execution_count": 5,
   "metadata": {},
   "outputs": [
    {
     "name": "stdout",
     "output_type": "stream",
     "text": [
      "23\n"
     ]
    }
   ],
   "source": [
    "a=input('enter a number')\n",
    "b=input('enter a number')\n",
    "print(a+b)"
   ]
  },
  {
   "cell_type": "markdown",
   "metadata": {},
   "source": [
    "typecasting\n",
    "from one datatype => another\n",
    "str=> int(variable)=> int\n"
   ]
  },
  {
   "cell_type": "code",
   "execution_count": 6,
   "metadata": {},
   "outputs": [
    {
     "data": {
      "text/plain": [
       "12"
      ]
     },
     "execution_count": 6,
     "metadata": {},
     "output_type": "execute_result"
    }
   ],
   "source": [
    "int(12)"
   ]
  },
  {
   "cell_type": "code",
   "execution_count": 7,
   "metadata": {},
   "outputs": [
    {
     "name": "stdout",
     "output_type": "stream",
     "text": [
      "<class 'int'>\n",
      "<class 'str'>\n",
      "<class 'str'>\n",
      "<class 'float'>\n"
     ]
    }
   ],
   "source": [
    "a=10\n",
    "b=\"10\"\n",
    "c=\"10.20\"\n",
    "d=10.20\n",
    "print(type(a))\n",
    "print(type(b))\n",
    "print(type(c))\n",
    "print(type(d))"
   ]
  },
  {
   "cell_type": "code",
   "execution_count": 9,
   "metadata": {},
   "outputs": [
    {
     "name": "stdout",
     "output_type": "stream",
     "text": [
      "10.0\n",
      "10\n",
      "True\n",
      "10\n",
      "10.0\n"
     ]
    }
   ],
   "source": [
    "print(float(a))\n",
    "print(str(a))\n",
    "print(bool(a))\n",
    "print(int(b))\n",
    "print(float(b))"
   ]
  },
  {
   "cell_type": "code",
   "execution_count": 10,
   "metadata": {},
   "outputs": [
    {
     "name": "stdout",
     "output_type": "stream",
     "text": [
      "30\n"
     ]
    }
   ],
   "source": [
    "a=input('enter a number')\n",
    "b=input('enter a number')\n",
    "c=int(a)+int(b)\n",
    "print(c)"
   ]
  },
  {
   "cell_type": "code",
   "execution_count": 11,
   "metadata": {},
   "outputs": [
    {
     "name": "stdout",
     "output_type": "stream",
     "text": [
      "26\n"
     ]
    }
   ],
   "source": [
    "a=int(input('enter a number'))\n",
    "b=int(input('enter a number'))\n",
    "c=a+b\n",
    "print(c)\n"
   ]
  },
  {
   "cell_type": "code",
   "execution_count": 14,
   "metadata": {},
   "outputs": [
    {
     "name": "stdout",
     "output_type": "stream",
     "text": [
      "312.0\n"
     ]
    }
   ],
   "source": [
    "p=int(input('enter the principal'))\n",
    "r=float(input('enter the interest'))\n",
    "t=int(input('enter the period'))\n",
    "si=p*t*r/100\n",
    "print(si)"
   ]
  },
  {
   "cell_type": "markdown",
   "metadata": {},
   "source": [
    " answer: 12-3=9\n",
    " "
   ]
  },
  {
   "cell_type": "code",
   "execution_count": 15,
   "metadata": {},
   "outputs": [
    {
     "name": "stdout",
     "output_type": "stream",
     "text": [
      "answer: 12 - 3 = 9\n"
     ]
    }
   ],
   "source": [
    "a= 12\n",
    "b=3\n",
    "c=a-b\n",
    "print(\"answer:\", a , '-' , b ,'=',c )"
   ]
  },
  {
   "cell_type": "code",
   "execution_count": 21,
   "metadata": {},
   "outputs": [
    {
     "name": "stdout",
     "output_type": "stream",
     "text": [
      "simple interest calculation\n",
      "principle= Rs. 12000\n",
      "interest= 20.0 %\n",
      "period= 5\n",
      "//////////\n",
      "simple interest= 12000.0\n"
     ]
    }
   ],
   "source": [
    "p=int(input('enter the principle'))\n",
    "r=float(input('enter the interest'))\n",
    "t=int(input('enter the period'))\n",
    "si=p*t*r/100\n",
    "print(\"simple interest calculation\")\n",
    "print(\"principle=\",'Rs.', p)\n",
    "print(\"interest=\", r,\"%\")\n",
    "print(\"period=\", t)\n",
    "print('/'*10)\n",
    "print(\"simple interest=\", si)\n"
   ]
  },
  {
   "cell_type": "code",
   "execution_count": 22,
   "metadata": {},
   "outputs": [
    {
     "name": "stdout",
     "output_type": "stream",
     "text": [
      "12-3-9-10.2\n"
     ]
    }
   ],
   "source": [
    "print(a,b,c,d,sep=\"-\")"
   ]
  },
  {
   "cell_type": "code",
   "execution_count": 23,
   "metadata": {},
   "outputs": [
    {
     "name": "stdout",
     "output_type": "stream",
     "text": [
      "h-e-l-l-o-w\n",
      "apple,banana,cherry\n"
     ]
    }
   ],
   "source": [
    "print(*\"hellow\",sep=\"-\")# advance version(not to be discussed)\n",
    "fruit=['apple','banana','cherry']\n",
    "print(*fruit,sep=\",\")"
   ]
  },
  {
   "cell_type": "code",
   "execution_count": 24,
   "metadata": {},
   "outputs": [
    {
     "name": "stdout",
     "output_type": "stream",
     "text": [
      "answer: 12 - 3 = 9\n",
      "answer:12-3=9\n"
     ]
    }
   ],
   "source": [
    "a= 12\n",
    "b=3\n",
    "c=a-b\n",
    "print(\"answer:\", a , '-' , b ,'=',c )\n",
    "print(f\"answer:{a}-{b}={c}\")"
   ]
  },
  {
   "cell_type": "markdown",
   "metadata": {},
   "source": [
    "In pyhton \"f\" is the formatable string\n"
   ]
  },
  {
   "cell_type": "code",
   "execution_count": 25,
   "metadata": {},
   "outputs": [
    {
     "name": "stdout",
     "output_type": "stream",
     "text": [
      "area of the triangle\n",
      "base=12cm\n",
      "height=10cm\n",
      "___________________\n",
      "area=60.0cm\n"
     ]
    }
   ],
   "source": [
    "# area of triangle\n",
    "b=int(input(\"enter the base of the triangle\"))\n",
    "h=int(input(\"enter the height of the triangle\"))\n",
    "area=1/2*b*h\n",
    "print(\"area of the triangle\")\n",
    "print(f'base={b}cm')\n",
    "print(f'height={h}cm')\n",
    "print('_'*19)\n",
    "print(f'area={area}cm')\n"
   ]
  },
  {
   "cell_type": "code",
   "execution_count": 2,
   "metadata": {},
   "outputs": [
    {
     "name": "stdout",
     "output_type": "stream",
     "text": [
      "1\n",
      "1.4\n",
      "1.429\n"
     ]
    }
   ],
   "source": [
    "# calulation roundoff\n",
    "print(round(10/7))\n",
    "print(round(10/7,1))\n",
    "print(round(10/7,3))"
   ]
  },
  {
   "cell_type": "code",
   "execution_count": 5,
   "metadata": {},
   "outputs": [
    {
     "name": "stdout",
     "output_type": "stream",
     "text": [
      "10 divided by 8is 1.25\n",
      "10 divided by 8is 1.250000\n",
      "10 divided by 8is 1.250000\n",
      "10 divided by 8is 1.250000\n"
     ]
    }
   ],
   "source": [
    "# Displaying roundoff\n",
    "a=10\n",
    "b=8\n",
    "c=a/b\n",
    "print(f'{a} divided by {b}is {c}')\n",
    "print(f'{a} divided by {b}is {c:1f}') # In this 1f is the float\n",
    "print(f'{a} divided by {b}is {c:2f}') # another f is the formate\n",
    "print(f'{a} divided by {b}is {c:3f}')"
   ]
  },
  {
   "cell_type": "code",
   "execution_count": 9,
   "metadata": {},
   "outputs": [
    {
     "name": "stdout",
     "output_type": "stream",
     "text": [
      "                        The final empire |  brandon sanderson   | 499\n",
      "                          The are of war |  brandon sanderson   | 239\n",
      "     Stormlight archives:the way of king |  brandon sanderson   | 550\n"
     ]
    }
   ],
   "source": [
    "# text alignment\n",
    "n1= \"The final empire\"\n",
    "a1='brandon sanderson'\n",
    "p1=499\n",
    "n2=\"The are of war\"\n",
    "a2=\"sun tzu\"\n",
    "p2=239\n",
    "n3=\"Stormlight archives:the way of king\"\n",
    "a3=\"brandon sanderson\"\n",
    "p3=550\n",
    "print(f\"{n1:>40} | {a1:^20} | {p1}\") # in > is used for right alignment\n",
    "print(f\"{n2:>40} | {a1:^20} | {p2}\")# in is ^ is used for center alignment\n",
    "print(f\"{n3:>40} | {a1:^20} | {p3}\")\n"
   ]
  },
  {
   "cell_type": "code",
   "execution_count": null,
   "metadata": {},
   "outputs": [],
   "source": []
  }
 ],
 "metadata": {
  "kernelspec": {
   "display_name": "base",
   "language": "python",
   "name": "python3"
  },
  "language_info": {
   "codemirror_mode": {
    "name": "ipython",
    "version": 3
   },
   "file_extension": ".py",
   "mimetype": "text/x-python",
   "name": "python",
   "nbconvert_exporter": "python",
   "pygments_lexer": "ipython3",
   "version": "3.12.3"
  }
 },
 "nbformat": 4,
 "nbformat_minor": 2
}
