{
 "cells": [
  {
   "cell_type": "code",
   "execution_count": 4,
   "metadata": {},
   "outputs": [
    {
     "name": "stdout",
     "output_type": "stream",
     "text": [
      "z=7\n"
     ]
    }
   ],
   "source": [
    "#1 WAP a program using lambda to add the integer value.\n",
    "i=3\n",
    "j=4\n",
    "add=lambda x,y: x + y\n",
    "\n",
    "z=i+j\n",
    "print(f\"z={z}\")\n"
   ]
  },
  {
   "cell_type": "code",
   "execution_count": 8,
   "metadata": {},
   "outputs": [
    {
     "data": {
      "text/plain": [
       "9"
      ]
     },
     "execution_count": 8,
     "metadata": {},
     "output_type": "execute_result"
    }
   ],
   "source": [
    "#2 WAP a program to increasing the single integer value.\n",
    "add=lambda x:x+1\n",
    "add(8)"
   ]
  },
  {
   "cell_type": "code",
   "execution_count": 15,
   "metadata": {},
   "outputs": [
    {
     "name": "stdout",
     "output_type": "stream",
     "text": [
      "c=60\n"
     ]
    }
   ],
   "source": [
    "#3 WAP a program to substraction the integer value.\n",
    "a=300\n",
    "b=240\n",
    "subs=lambda x,y:x-y\n",
    "\n",
    "c=a-b\n",
    "print(f\"c={c}\")"
   ]
  },
  {
   "cell_type": "code",
   "execution_count": 1,
   "metadata": {},
   "outputs": [
    {
     "name": "stdout",
     "output_type": "stream",
     "text": [
      "z=448\n"
     ]
    }
   ],
   "source": [
    "#4 WAP a program to multiple the integer value.\n",
    "i=56\n",
    "j=8\n",
    "multi=lambda x,y:x*y\n",
    "\n",
    "z=i*j\n",
    "print(f\"z={z}\")"
   ]
  },
  {
   "cell_type": "code",
   "execution_count": 2,
   "metadata": {},
   "outputs": [
    {
     "name": "stdout",
     "output_type": "stream",
     "text": [
      "z=6.0\n"
     ]
    }
   ],
   "source": [
    "#5 WAP a program to divided the two integer value.\n",
    "a=12\n",
    "b=2\n",
    "devide=lambda x,y:x/y\n",
    "\n",
    "z=a/b\n",
    "print(f\"z={z}\")"
   ]
  },
  {
   "cell_type": "code",
   "execution_count": null,
   "metadata": {},
   "outputs": [],
   "source": []
  }
 ],
 "metadata": {
  "kernelspec": {
   "display_name": "base",
   "language": "python",
   "name": "python3"
  },
  "language_info": {
   "codemirror_mode": {
    "name": "ipython",
    "version": 3
   },
   "file_extension": ".py",
   "mimetype": "text/x-python",
   "name": "python",
   "nbconvert_exporter": "python",
   "pygments_lexer": "ipython3",
   "version": "3.12.3"
  }
 },
 "nbformat": 4,
 "nbformat_minor": 2
}
