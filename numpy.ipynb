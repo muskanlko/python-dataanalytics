{
 "cells": [
  {
   "cell_type": "markdown",
   "metadata": {},
   "source": [
    "run on terminal"
   ]
  },
  {
   "cell_type": "markdown",
   "metadata": {},
   "source": [
    "# pip install numpy matplotlip"
   ]
  },
  {
   "cell_type": "code",
   "execution_count": 111,
   "metadata": {},
   "outputs": [
    {
     "name": "stdout",
     "output_type": "stream",
     "text": [
      "Requirement already satisfied: numpy in c:\\users\\suraj\\miniconda3\\lib\\site-packages (2.0.1)\n"
     ]
    }
   ],
   "source": [
    "!pip install numpy"
   ]
  },
  {
   "cell_type": "code",
   "execution_count": 112,
   "metadata": {},
   "outputs": [],
   "source": [
    "import numpy as np"
   ]
  },
  {
   "cell_type": "markdown",
   "metadata": {},
   "source": [
    "- create\n",
    "- basic operation\n",
    "- math operation\n",
    "- indexing and slicling \n",
    "- boolean filter\n"
   ]
  },
  {
   "cell_type": "code",
   "execution_count": 113,
   "metadata": {},
   "outputs": [],
   "source": [
    "x= np.array([1,2,3,4,5])"
   ]
  },
  {
   "cell_type": "code",
   "execution_count": 114,
   "metadata": {},
   "outputs": [
    {
     "name": "stdout",
     "output_type": "stream",
     "text": [
      "[[1 2 3]\n",
      " [4 5 6]]\n",
      "(2, 3)\n"
     ]
    }
   ],
   "source": [
    "a=np.array([[1,2,3,],[4,5,6,]])\n",
    "print(a)\n",
    "print(a.shape)"
   ]
  },
  {
   "cell_type": "code",
   "execution_count": 115,
   "metadata": {},
   "outputs": [
    {
     "name": "stdout",
     "output_type": "stream",
     "text": [
      "[[1 2 3]\n",
      " [4 5 6]\n",
      " [7 8 9]]\n",
      "(3, 3)\n"
     ]
    }
   ],
   "source": [
    "b=np.array([[1,2,3],[4,5,6],[7,8,9]])\n",
    "print(b)\n",
    "print(b.shape)"
   ]
  },
  {
   "cell_type": "code",
   "execution_count": 116,
   "metadata": {},
   "outputs": [
    {
     "name": "stdout",
     "output_type": "stream",
     "text": [
      "[[0 1 2 3 4 5 6 7 8 9]\n",
      " [0 1 2 3 4 5 6 7 8 9]\n",
      " [0 1 2 3 4 5 6 7 8 9]\n",
      " [0 1 2 3 4 5 6 7 8 9]\n",
      " [0 1 2 3 4 5 6 7 8 9]\n",
      " [0 1 2 3 4 5 6 7 8 9]\n",
      " [0 1 2 3 4 5 6 7 8 9]\n",
      " [0 1 2 3 4 5 6 7 8 9]\n",
      " [0 1 2 3 4 5 6 7 8 9]\n",
      " [0 1 2 3 4 5 6 7 8 9]]\n",
      "(10, 10)\n"
     ]
    }
   ],
   "source": [
    "z=[0,1,2,3,4,5,6,7,8,9]\n",
    "nz=np.array([z]*10)\n",
    "print(nz)\n",
    "print(nz.shape)"
   ]
  },
  {
   "cell_type": "markdown",
   "metadata": {},
   "source": [
    "- random\n",
    "- arrange\n",
    "- linspace\n"
   ]
  },
  {
   "cell_type": "code",
   "execution_count": 117,
   "metadata": {},
   "outputs": [
    {
     "data": {
      "text/plain": [
       "array([[0.27528221, 0.00638006, 0.73120432],\n",
       "       [0.21289774, 0.30567659, 0.97614191],\n",
       "       [0.19362177, 0.24690266, 0.96627708]])"
      ]
     },
     "execution_count": 117,
     "metadata": {},
     "output_type": "execute_result"
    }
   ],
   "source": [
    "np.random.rand(3,3)"
   ]
  },
  {
   "cell_type": "code",
   "execution_count": 118,
   "metadata": {},
   "outputs": [
    {
     "name": "stdout",
     "output_type": "stream",
     "text": [
      "[[-1 -4 -5  5  1]\n",
      " [-2 -4  2 -1 -3]\n",
      " [ 3  2 -1 -3  4]\n",
      " [-4  1 -4 -2 -4]\n",
      " [-1  0 -5 -3 -3]]\n"
     ]
    }
   ],
   "source": [
    "r1=np.random.randint(-5,6,(5,5))\n",
    "print(r1)"
   ]
  },
  {
   "cell_type": "code",
   "execution_count": 119,
   "metadata": {},
   "outputs": [
    {
     "data": {
      "text/plain": [
       "array([ 0. ,  0.5,  1. ,  1.5,  2. ,  2.5,  3. ,  3.5,  4. ,  4.5,  5. ,\n",
       "        5.5,  6. ,  6.5,  7. ,  7.5,  8. ,  8.5,  9. ,  9.5, 10. , 10.5,\n",
       "       11. , 11.5, 12. , 12.5, 13. , 13.5, 14. , 14.5, 15. , 15.5, 16. ,\n",
       "       16.5, 17. , 17.5, 18. , 18.5, 19. , 19.5, 20. , 20.5, 21. , 21.5,\n",
       "       22. , 22.5, 23. , 23.5, 24. , 24.5, 25. , 25.5, 26. , 26.5, 27. ,\n",
       "       27.5, 28. , 28.5, 29. , 29.5, 30. , 30.5, 31. , 31.5, 32. , 32.5,\n",
       "       33. , 33.5, 34. , 34.5, 35. , 35.5, 36. , 36.5, 37. , 37.5, 38. ,\n",
       "       38.5, 39. , 39.5, 40. , 40.5, 41. , 41.5, 42. , 42.5, 43. , 43.5,\n",
       "       44. , 44.5, 45. , 45.5, 46. , 46.5, 47. , 47.5, 48. , 48.5, 49. ,\n",
       "       49.5])"
      ]
     },
     "execution_count": 119,
     "metadata": {},
     "output_type": "execute_result"
    }
   ],
   "source": [
    "#start,stop,gap\n",
    "np.arange(0,50,.5)"
   ]
  },
  {
   "cell_type": "code",
   "execution_count": 120,
   "metadata": {},
   "outputs": [
    {
     "data": {
      "text/plain": [
       "array([ 0.        ,  5.55555556, 11.11111111, 16.66666667, 22.22222222,\n",
       "       27.77777778, 33.33333333, 38.88888889, 44.44444444, 50.        ])"
      ]
     },
     "execution_count": 120,
     "metadata": {},
     "output_type": "execute_result"
    }
   ],
   "source": [
    "#start,stop,number_of_item\n",
    "np.linspace(0,50,10)"
   ]
  },
  {
   "cell_type": "markdown",
   "metadata": {},
   "source": [
    "array attributes\n",
    "- shape\n",
    "- dtype\n",
    "- ndim\n",
    "- size\n",
    "\n",
    "basic operation\n",
    "- sun\n",
    "- mean\n",
    "- min\n",
    "- max\n",
    "- std\n",
    "- reshape\n",
    "- transpose\n",
    "- flatten\n"
   ]
  },
  {
   "cell_type": "code",
   "execution_count": 121,
   "metadata": {},
   "outputs": [
    {
     "data": {
      "text/plain": [
       "dtype('int64')"
      ]
     },
     "execution_count": 121,
     "metadata": {},
     "output_type": "execute_result"
    }
   ],
   "source": [
    "x.dtype"
   ]
  },
  {
   "cell_type": "code",
   "execution_count": 122,
   "metadata": {},
   "outputs": [
    {
     "data": {
      "text/plain": [
       "dtype('float64')"
      ]
     },
     "execution_count": 122,
     "metadata": {},
     "output_type": "execute_result"
    }
   ],
   "source": [
    "x=np.random.rand(3,3)\n",
    "x.dtype"
   ]
  },
  {
   "cell_type": "code",
   "execution_count": 123,
   "metadata": {},
   "outputs": [
    {
     "data": {
      "text/plain": [
       "2"
      ]
     },
     "execution_count": 123,
     "metadata": {},
     "output_type": "execute_result"
    }
   ],
   "source": [
    "x.ndim"
   ]
  },
  {
   "cell_type": "code",
   "execution_count": 124,
   "metadata": {},
   "outputs": [
    {
     "data": {
      "text/plain": [
       "3"
      ]
     },
     "execution_count": 124,
     "metadata": {},
     "output_type": "execute_result"
    }
   ],
   "source": [
    "z = np.random.randint(1,5,(3,3,3))\n",
    "z.ndim"
   ]
  },
  {
   "cell_type": "code",
   "execution_count": 125,
   "metadata": {},
   "outputs": [
    {
     "data": {
      "text/plain": [
       "27"
      ]
     },
     "execution_count": 125,
     "metadata": {},
     "output_type": "execute_result"
    }
   ],
   "source": [
    "z.size"
   ]
  },
  {
   "cell_type": "code",
   "execution_count": 126,
   "metadata": {},
   "outputs": [
    {
     "data": {
      "text/plain": [
       "np.int64(64)"
      ]
     },
     "execution_count": 126,
     "metadata": {},
     "output_type": "execute_result"
    }
   ],
   "source": [
    "z.sum()"
   ]
  },
  {
   "cell_type": "code",
   "execution_count": 127,
   "metadata": {},
   "outputs": [
    {
     "name": "stdout",
     "output_type": "stream",
     "text": [
      "3.0945780909019476\n",
      "[0.87386222 1.47137221 0.74934366]\n",
      "[1.80406662 1.29051147]\n",
      "0.5157630151503246\n",
      "0.9887634427518303\n",
      "0.2109043464507332\n",
      "0.25230722582118253\n",
      "0.06365893620158121\n"
     ]
    }
   ],
   "source": [
    "a=np.random.rand(2,3)\n",
    "print(a.sum())\n",
    "print(a.sum(axis=0))#sum of column -wise\n",
    "print(a.sum(axis=1))# sum of row -wise\n",
    "\n",
    "print(a.mean())\n",
    "print(a.max())\n",
    "print(a.min())\n",
    "print(a.std())\n",
    "print(a.var())\n",
    "# all the method can be used with axis"
   ]
  },
  {
   "cell_type": "code",
   "execution_count": 128,
   "metadata": {},
   "outputs": [
    {
     "name": "stdout",
     "output_type": "stream",
     "text": [
      "[[85 41 32 78 78]\n",
      " [28 29 79 70 89]\n",
      " [77 44 83 45 24]\n",
      " [94 14 41 78 36]\n",
      " [92 85 89 69 95]]\n",
      "transpose\n",
      "[[85 28 77 94 92]\n",
      " [41 29 44 14 85]\n",
      " [32 79 83 41 89]\n",
      " [78 70 45 78 69]\n",
      " [78 89 24 36 95]]\n",
      "flattened\n",
      "[85 41 32 78 78 28 29 79 70 89 77 44 83 45 24 94 14 41 78 36 92 85 89 69\n",
      " 95]\n"
     ]
    }
   ],
   "source": [
    "z=np.random.randint(11,99,(5,5))\n",
    "print(z)\n",
    "print('transpose')\n",
    "print(z.transpose())# or print(z.t)\n",
    "print('flattened')\n",
    "print(z.flatten())"
   ]
  },
  {
   "cell_type": "code",
   "execution_count": 129,
   "metadata": {},
   "outputs": [
    {
     "name": "stdout",
     "output_type": "stream",
     "text": [
      "[[1 9 7 9 5]\n",
      " [5 9 1 7 8]\n",
      " [6 5 3 1 7]\n",
      " [9 9 5 6 7]]\n",
      "[1 9 7 9 5 5 9 1 7 8 6 5 3 1 7 9 9 5 6 7]\n",
      "[[1 9 7 9]\n",
      " [5 5 9 1]\n",
      " [7 8 6 5]\n",
      " [3 1 7 9]\n",
      " [9 5 6 7]]\n",
      "[[1 9 7 9 5 5 9 1 7 8]\n",
      " [6 5 3 1 7 9 9 5 6 7]]\n",
      "[[1 9]\n",
      " [7 9]\n",
      " [5 5]\n",
      " [9 1]\n",
      " [7 8]\n",
      " [6 5]\n",
      " [3 1]\n",
      " [7 9]\n",
      " [9 5]\n",
      " [6 7]]\n",
      "[[[1 9]\n",
      "  [7 9]]\n",
      "\n",
      " [[5 5]\n",
      "  [9 1]]\n",
      "\n",
      " [[7 8]\n",
      "  [6 5]]\n",
      "\n",
      " [[3 1]\n",
      "  [7 9]]\n",
      "\n",
      " [[9 5]\n",
      "  [6 7]]]\n"
     ]
    }
   ],
   "source": [
    "a=np.random.randint(1,10, (4,5))\n",
    "print(a)\n",
    "print(a.reshape(20))\n",
    "print(a.reshape(5,4))\n",
    "print(a.reshape(2,10))\n",
    "print(a.reshape(10,2))\n",
    "print(a.reshape(5,2,2))\n"
   ]
  },
  {
   "cell_type": "code",
   "execution_count": 130,
   "metadata": {},
   "outputs": [
    {
     "name": "stdout",
     "output_type": "stream",
     "text": [
      "[[1 2]\n",
      " [3 4]]\n",
      "[[6 2]\n",
      " [6 3]]\n"
     ]
    }
   ],
   "source": [
    "a=np.array([[1,2],[3,4]])\n",
    "b=np.array([[6,2],[6,3]])\n",
    "print(a)\n",
    "print(b)"
   ]
  },
  {
   "cell_type": "code",
   "execution_count": 131,
   "metadata": {},
   "outputs": [
    {
     "name": "stdout",
     "output_type": "stream",
     "text": [
      "[[7 4]\n",
      " [9 7]]\n",
      "[[-5  0]\n",
      " [-3  1]]\n",
      "[[0.16666667 1.        ]\n",
      " [0.5        1.33333333]]\n",
      "[[ 6  4]\n",
      " [18 12]]\n",
      "[[18  8]\n",
      " [42 18]]\n",
      "[[18  8]\n",
      " [42 18]]\n"
     ]
    }
   ],
   "source": [
    "# when using 2 matrix the shape \n",
    "print(a+b)\n",
    "print(a-b)\n",
    "print(a/b)\n",
    "print(a*b)\n",
    "print(a@b)\n",
    "print(a.dot(b))\n"
   ]
  },
  {
   "cell_type": "code",
   "execution_count": 132,
   "metadata": {},
   "outputs": [
    {
     "name": "stdout",
     "output_type": "stream",
     "text": [
      "[[11 12]\n",
      " [13 14]]\n",
      "[[10 20]\n",
      " [30 40]]\n",
      "[[0.1 0.2]\n",
      " [0.3 0.4]]\n",
      "[[-9 -8]\n",
      " [-7 -6]]\n"
     ]
    }
   ],
   "source": [
    "# when using matrix and scalar\n",
    "print(a+10)# broadcasting\n",
    "print(a*10)# broadcasting\n",
    "print(a/10)\n",
    "print(a-10)"
   ]
  },
  {
   "cell_type": "code",
   "execution_count": 133,
   "metadata": {},
   "outputs": [
    {
     "name": "stdout",
     "output_type": "stream",
     "text": [
      "1\n",
      "4\n"
     ]
    }
   ],
   "source": [
    "# indexing\n",
    "print(a[0,0])\n",
    "print(a[-1,-1])"
   ]
  },
  {
   "cell_type": "code",
   "execution_count": 134,
   "metadata": {},
   "outputs": [
    {
     "name": "stdout",
     "output_type": "stream",
     "text": [
      "[[1 3 4 1 4]\n",
      " [5 5 1 9 2]\n",
      " [2 7 8 3 8]\n",
      " [2 4 6 5 6]\n",
      " [2 7 5 4 5]]\n",
      "[1 5 2 2 2]\n",
      "[4 2 8 6 5]\n",
      "[[1 3 4]\n",
      " [5 5 1]\n",
      " [2 7 8]\n",
      " [2 4 6]\n",
      " [2 7 5]]\n",
      "[[1 3 4 1]\n",
      " [5 5 1 9]\n",
      " [2 7 8 3]\n",
      " [2 4 6 5]]\n"
     ]
    }
   ],
   "source": [
    "#slicing\n",
    "x=np.random.randint(1,10,(5,5))\n",
    "print(x)\n",
    "print(x[:,0])\n",
    "print(x[:,-1])\n",
    "print(x[:,:3])\n",
    "print(x[:-1,:-1])"
   ]
  },
  {
   "cell_type": "markdown",
   "metadata": {},
   "source": [
    "boolean filter\n"
   ]
  },
  {
   "cell_type": "code",
   "execution_count": 137,
   "metadata": {},
   "outputs": [
    {
     "data": {
      "text/plain": [
       "array([[  1,   2,   3,   4],\n",
       "       [  5,   6,   7,   8],\n",
       "       [  9,  10,  11,  12],\n",
       "       [ 13,  14,  15,  16],\n",
       "       [ 17,  18,  19,  20],\n",
       "       [ 21,  22,  23,  24],\n",
       "       [ 25,  26,  27,  28],\n",
       "       [ 29,  30,  31,  32],\n",
       "       [ 33,  34,  35,  36],\n",
       "       [ 37,  38,  39,  40],\n",
       "       [ 41,  42,  43,  44],\n",
       "       [ 45,  46,  47,  48],\n",
       "       [ 49,  50,  51,  52],\n",
       "       [ 53,  54,  55,  56],\n",
       "       [ 57,  58,  59,  60],\n",
       "       [ 61,  62,  63,  64],\n",
       "       [ 65,  66,  67,  68],\n",
       "       [ 69,  70,  71,  72],\n",
       "       [ 73,  74,  75,  76],\n",
       "       [ 77,  78,  79,  80],\n",
       "       [ 81,  82,  83,  84],\n",
       "       [ 85,  86,  87,  88],\n",
       "       [ 89,  90,  91,  92],\n",
       "       [ 93,  94,  95,  96],\n",
       "       [ 97,  98,  99, 100]])"
      ]
     },
     "execution_count": 137,
     "metadata": {},
     "output_type": "execute_result"
    }
   ],
   "source": [
    "x=np.arange(1,101).reshape(25,4)\n",
    "x"
   ]
  },
  {
   "cell_type": "code",
   "execution_count": 138,
   "metadata": {},
   "outputs": [
    {
     "data": {
      "text/plain": [
       "array([[False, False, False, False],\n",
       "       [False, False, False, False],\n",
       "       [False, False, False, False],\n",
       "       [False, False, False, False],\n",
       "       [False, False, False, False],\n",
       "       [False, False, False, False],\n",
       "       [False, False, False, False],\n",
       "       [False, False, False, False],\n",
       "       [False, False, False, False],\n",
       "       [False, False, False, False],\n",
       "       [False, False, False, False],\n",
       "       [False, False, False, False],\n",
       "       [False,  True,  True,  True],\n",
       "       [ True,  True,  True,  True],\n",
       "       [ True,  True,  True,  True],\n",
       "       [ True,  True,  True,  True],\n",
       "       [ True,  True,  True,  True],\n",
       "       [ True,  True,  True,  True],\n",
       "       [ True,  True,  True,  True],\n",
       "       [ True,  True,  True,  True],\n",
       "       [ True,  True,  True,  True],\n",
       "       [ True,  True,  True,  True],\n",
       "       [ True,  True,  True,  True],\n",
       "       [ True,  True,  True,  True],\n",
       "       [ True,  True,  True,  True]])"
      ]
     },
     "execution_count": 138,
     "metadata": {},
     "output_type": "execute_result"
    }
   ],
   "source": [
    "x>=50 # boolean filter"
   ]
  },
  {
   "cell_type": "code",
   "execution_count": 139,
   "metadata": {},
   "outputs": [
    {
     "data": {
      "text/plain": [
       "array([ 50,  51,  52,  53,  54,  55,  56,  57,  58,  59,  60,  61,  62,\n",
       "        63,  64,  65,  66,  67,  68,  69,  70,  71,  72,  73,  74,  75,\n",
       "        76,  77,  78,  79,  80,  81,  82,  83,  84,  85,  86,  87,  88,\n",
       "        89,  90,  91,  92,  93,  94,  95,  96,  97,  98,  99, 100])"
      ]
     },
     "execution_count": 139,
     "metadata": {},
     "output_type": "execute_result"
    }
   ],
   "source": [
    "x[x>=50] # only value > = 50"
   ]
  },
  {
   "cell_type": "code",
   "execution_count": 140,
   "metadata": {},
   "outputs": [
    {
     "data": {
      "text/plain": [
       "array([25, 26, 27, 28, 29, 30, 31, 32, 33, 34, 35, 36, 37, 38, 39, 40, 41,\n",
       "       42, 43, 44, 45, 46, 47, 48, 49, 50, 51, 52, 53, 54, 55, 56, 57, 58,\n",
       "       59, 60, 61, 62, 63, 64, 65, 66, 67, 68, 69, 70, 71, 72, 73, 74, 75])"
      ]
     },
     "execution_count": 140,
     "metadata": {},
     "output_type": "execute_result"
    }
   ],
   "source": [
    "x[(x>=25) & (x<=75)] # twise & for multiple filter"
   ]
  },
  {
   "cell_type": "markdown",
   "metadata": {},
   "source": [
    "some more operation"
   ]
  },
  {
   "cell_type": "code",
   "execution_count": 141,
   "metadata": {},
   "outputs": [
    {
     "data": {
      "text/plain": [
       "array([[1, 0, 0, 0, 0],\n",
       "       [0, 1, 0, 0, 0],\n",
       "       [0, 0, 1, 0, 0],\n",
       "       [0, 0, 0, 1, 0],\n",
       "       [0, 0, 0, 0, 1]])"
      ]
     },
     "execution_count": 141,
     "metadata": {},
     "output_type": "execute_result"
    }
   ],
   "source": [
    "np.eye(5,dtype=int)"
   ]
  },
  {
   "cell_type": "code",
   "execution_count": 142,
   "metadata": {},
   "outputs": [
    {
     "data": {
      "text/plain": [
       "array([[1, 0, 0, 0, 0, 0],\n",
       "       [0, 2, 0, 0, 0, 0],\n",
       "       [0, 0, 3, 0, 0, 0],\n",
       "       [0, 0, 0, 4, 0, 0],\n",
       "       [0, 0, 0, 0, 5, 0],\n",
       "       [0, 0, 0, 0, 0, 6]])"
      ]
     },
     "execution_count": 142,
     "metadata": {},
     "output_type": "execute_result"
    }
   ],
   "source": [
    "np.diag([1,2,3,4,5,6])"
   ]
  },
  {
   "cell_type": "code",
   "execution_count": 144,
   "metadata": {},
   "outputs": [],
   "source": [
    "np.set_printoptions(precision=2)"
   ]
  },
  {
   "cell_type": "code",
   "execution_count": 143,
   "metadata": {},
   "outputs": [
    {
     "data": {
      "text/plain": [
       "array([[0.31684631, 0.7218238 , 0.33115289],\n",
       "       [0.21828776, 0.37270209, 0.99491687],\n",
       "       [0.54714251, 0.34705527, 0.31886237]])"
      ]
     },
     "execution_count": 143,
     "metadata": {},
     "output_type": "execute_result"
    }
   ],
   "source": [
    "np.random.rand(3,3)"
   ]
  },
  {
   "cell_type": "code",
   "execution_count": 145,
   "metadata": {},
   "outputs": [
    {
     "data": {
      "text/plain": [
       "array([[1, 1, 1],\n",
       "       [1, 1, 1],\n",
       "       [1, 1, 1]])"
      ]
     },
     "execution_count": 145,
     "metadata": {},
     "output_type": "execute_result"
    }
   ],
   "source": [
    "np.ones((3,3),dtype=int)"
   ]
  },
  {
   "cell_type": "code",
   "execution_count": 146,
   "metadata": {},
   "outputs": [
    {
     "data": {
      "text/plain": [
       "array([[0., 0., 0.],\n",
       "       [0., 0., 0.],\n",
       "       [0., 0., 0.]])"
      ]
     },
     "execution_count": 146,
     "metadata": {},
     "output_type": "execute_result"
    }
   ],
   "source": [
    "np.zeros((3,3))"
   ]
  },
  {
   "cell_type": "code",
   "execution_count": 147,
   "metadata": {},
   "outputs": [
    {
     "data": {
      "text/plain": [
       "array([[ 0.84,  0.91,  0.14, -0.76],\n",
       "       [-0.96, -0.28,  0.66,  0.99],\n",
       "       [ 0.41, -0.54, -1.  , -0.54],\n",
       "       [ 0.42,  0.99,  0.65, -0.29],\n",
       "       [-0.96, -0.75,  0.15,  0.91],\n",
       "       [ 0.84, -0.01, -0.85, -0.91],\n",
       "       [-0.13,  0.76,  0.96,  0.27],\n",
       "       [-0.66, -0.99, -0.4 ,  0.55],\n",
       "       [ 1.  ,  0.53, -0.43, -0.99],\n",
       "       [-0.64,  0.3 ,  0.96,  0.75],\n",
       "       [-0.16, -0.92, -0.83,  0.02],\n",
       "       [ 0.85,  0.9 ,  0.12, -0.77],\n",
       "       [-0.95, -0.26,  0.67,  0.99],\n",
       "       [ 0.4 , -0.56, -1.  , -0.52],\n",
       "       [ 0.44,  0.99,  0.64, -0.3 ],\n",
       "       [-0.97, -0.74,  0.17,  0.92],\n",
       "       [ 0.83, -0.03, -0.86, -0.9 ],\n",
       "       [-0.11,  0.77,  0.95,  0.25],\n",
       "       [-0.68, -0.99, -0.39,  0.57],\n",
       "       [ 1.  ,  0.51, -0.44, -0.99],\n",
       "       [-0.63,  0.31,  0.97,  0.73],\n",
       "       [-0.18, -0.92, -0.82,  0.04],\n",
       "       [ 0.86,  0.89,  0.11, -0.78],\n",
       "       [-0.95, -0.25,  0.68,  0.98],\n",
       "       [ 0.38, -0.57, -1.  , -0.51]])"
      ]
     },
     "execution_count": 147,
     "metadata": {},
     "output_type": "execute_result"
    }
   ],
   "source": [
    "np.sin(x)"
   ]
  },
  {
   "cell_type": "code",
   "execution_count": 148,
   "metadata": {},
   "outputs": [
    {
     "name": "stdout",
     "output_type": "stream",
     "text": [
      "[[ 0.54 -0.42 -0.99 -0.65]\n",
      " [ 0.28  0.96  0.75 -0.15]\n",
      " [-0.91 -0.84  0.    0.84]\n",
      " [ 0.91  0.14 -0.76 -0.96]\n",
      " [-0.28  0.66  0.99  0.41]\n",
      " [-0.55 -1.   -0.53  0.42]\n",
      " [ 0.99  0.65 -0.29 -0.96]\n",
      " [-0.75  0.15  0.91  0.83]\n",
      " [-0.01 -0.85 -0.9  -0.13]\n",
      " [ 0.77  0.96  0.27 -0.67]\n",
      " [-0.99 -0.4   0.56  1.  ]\n",
      " [ 0.53 -0.43 -0.99 -0.64]\n",
      " [ 0.3   0.96  0.74 -0.16]\n",
      " [-0.92 -0.83  0.02  0.85]\n",
      " [ 0.9   0.12 -0.77 -0.95]\n",
      " [-0.26  0.67  0.99  0.39]\n",
      " [-0.56 -1.   -0.52  0.44]\n",
      " [ 0.99  0.63 -0.31 -0.97]\n",
      " [-0.74  0.17  0.92  0.82]\n",
      " [-0.03 -0.86 -0.9  -0.11]\n",
      " [ 0.78  0.95  0.25 -0.68]\n",
      " [-0.98 -0.38  0.57  1.  ]\n",
      " [ 0.51 -0.45 -0.99 -0.63]\n",
      " [ 0.32  0.97  0.73 -0.18]\n",
      " [-0.93 -0.82  0.04  0.86]]\n",
      "[[ 1.56e+00 -2.19e+00 -1.43e-01  1.16e+00]\n",
      " [-3.38e+00 -2.91e-01  8.71e-01 -6.80e+00]\n",
      " [-4.52e-01  6.48e-01 -2.26e+02 -6.36e-01]\n",
      " [ 4.63e-01  7.24e+00 -8.56e-01  3.01e-01]\n",
      " [ 3.49e+00 -1.14e+00  1.52e-01  2.24e+00]\n",
      " [-1.53e+00  8.85e-03  1.59e+00 -2.13e+00]\n",
      " [-1.34e-01  1.18e+00 -3.27e+00 -2.81e-01]\n",
      " [ 8.87e-01 -6.41e+00 -4.42e-01  6.61e-01]\n",
      " [-7.53e+01 -6.23e-01  4.74e-01  7.75e+00]\n",
      " [-8.41e-01  3.10e-01  3.61e+00 -1.12e+00]\n",
      " [ 1.61e-01  2.29e+00 -1.50e+00  1.77e-02]\n",
      " [ 1.62e+00 -2.09e+00 -1.25e-01  1.20e+00]\n",
      " [-3.17e+00 -2.72e-01  9.03e-01 -6.05e+00]\n",
      " [-4.31e-01  6.74e-01 -4.52e+01 -6.11e-01]\n",
      " [ 4.85e-01  8.33e+00 -8.26e-01  3.20e-01]\n",
      " [ 3.74e+00 -1.10e+00  1.70e-01  2.35e+00]\n",
      " [-1.47e+00  2.66e-02  1.65e+00 -2.04e+00]\n",
      " [-1.16e-01  1.22e+00 -3.08e+00 -2.62e-01]\n",
      " [ 9.19e-01 -5.74e+00 -4.21e-01  6.87e-01]\n",
      " [-3.23e+01 -5.99e-01  4.96e-01  9.00e+00]\n",
      " [-8.11e-01  3.30e-01  3.88e+00 -1.08e+00]\n",
      " [ 1.79e-01  2.41e+00 -1.44e+00  3.54e-02]\n",
      " [ 1.69e+00 -2.00e+00 -1.07e-01  1.24e+00]\n",
      " [-2.99e+00 -2.53e-01  9.36e-01 -5.45e+00]\n",
      " [-4.10e-01  7.00e-01 -2.51e+01 -5.87e-01]]\n",
      "[[1.54e+00 3.76e+00 1.01e+01 2.73e+01]\n",
      " [7.42e+01 2.02e+02 5.48e+02 1.49e+03]\n",
      " [4.05e+03 1.10e+04 2.99e+04 8.14e+04]\n",
      " [2.21e+05 6.01e+05 1.63e+06 4.44e+06]\n",
      " [1.21e+07 3.28e+07 8.92e+07 2.43e+08]\n",
      " [6.59e+08 1.79e+09 4.87e+09 1.32e+10]\n",
      " [3.60e+10 9.79e+10 2.66e+11 7.23e+11]\n",
      " [1.97e+12 5.34e+12 1.45e+13 3.95e+13]\n",
      " [1.07e+14 2.92e+14 7.93e+14 2.16e+15]\n",
      " [5.86e+15 1.59e+16 4.33e+16 1.18e+17]\n",
      " [3.20e+17 8.70e+17 2.36e+18 6.43e+18]\n",
      " [1.75e+19 4.75e+19 1.29e+20 3.51e+20]\n",
      " [9.54e+20 2.59e+21 7.05e+21 1.92e+22]\n",
      " [5.21e+22 1.42e+23 3.85e+23 1.05e+24]\n",
      " [2.84e+24 7.73e+24 2.10e+25 5.71e+25]\n",
      " [1.55e+26 4.22e+26 1.15e+27 3.12e+27]\n",
      " [8.47e+27 2.30e+28 6.26e+28 1.70e+29]\n",
      " [4.63e+29 1.26e+30 3.42e+30 9.29e+30]\n",
      " [2.53e+31 6.87e+31 1.87e+32 5.07e+32]\n",
      " [1.38e+33 3.75e+33 1.02e+34 2.77e+34]\n",
      " [7.53e+34 2.05e+35 5.56e+35 1.51e+36]\n",
      " [4.11e+36 1.12e+37 3.04e+37 8.26e+37]\n",
      " [2.24e+38 6.10e+38 1.66e+39 4.51e+39]\n",
      " [1.23e+40 3.33e+40 9.06e+40 2.46e+41]\n",
      " [6.69e+41 1.82e+42 4.94e+42 1.34e+43]]\n"
     ]
    }
   ],
   "source": [
    "print(np.cos(x))\n",
    "print(np.tan(x))\n",
    "print(np.cosh(x))"
   ]
  },
  {
   "cell_type": "code",
   "execution_count": 149,
   "metadata": {},
   "outputs": [],
   "source": [
    "t=np.arange(-10,10,.05)\n",
    "x=np.sin(t)\n",
    "y=np.cos(t)"
   ]
  },
  {
   "cell_type": "code",
   "execution_count": 153,
   "metadata": {},
   "outputs": [
    {
     "data": {
      "text/plain": [
       "[<matplotlib.lines.Line2D at 0x209ffe855b0>]"
      ]
     },
     "execution_count": 153,
     "metadata": {},
     "output_type": "execute_result"
    },
    {
     "data": {
      "image/png": "[encoded data removed]",
      "text/plain": [
       "<Figure size 640x480 with 1 Axes>"
      ]
     },
     "metadata": {},
     "output_type": "display_data"
    }
   ],
   "source": [
    "import matplotlib.pyplot as plt\n",
    "plt.plot(t,x)\n",
    "plt.plot(t,y)"
   ]
  },
  {
   "cell_type": "code",
   "execution_count": 205,
   "metadata": {},
   "outputs": [
    {
     "name": "stderr",
     "output_type": "stream",
     "text": [
      "C:\\Users\\suraj\\AppData\\Local\\Temp\\ipykernel_19864\\637177.py:12: UserWarning: marker is redundantly defined by the 'marker' keyword argument and the fmt string \"bs-.\" (-> marker='s'). The keyword argument will take precedence.\n",
      "  ax.plot(x,y, 'bs-.',linewidth=2,markersize=5,\n",
      "C:\\Users\\suraj\\AppData\\Local\\Temp\\ipykernel_19864\\637177.py:12: UserWarning: color is redundantly defined by the 'color' keyword argument and the fmt string \"bs-.\" (-> color='b'). The keyword argument will take precedence.\n",
      "  ax.plot(x,y, 'bs-.',linewidth=2,markersize=5,\n"
     ]
    },
    {
     "data": {
      "text/plain": [
       "<matplotlib.patches.Rectangle at 0x209a0146ae0>"
      ]
     },
     "execution_count": 205,
     "metadata": {},
     "output_type": "execute_result"
    },
    {
     "data": {
      "image/png": "[encoded data removed]",
      "text/plain": [
       "<Figure size 640x480 with 1 Axes>"
      ]
     },
     "metadata": {},
     "output_type": "display_data"
    }
   ],
   "source": [
    "fig, ax=plt.subplots()\n",
    "fig.set_facecolor('red')\n",
    "ax.set_facecolor('yellow')\n",
    "ax.set_xlabel('Time')\n",
    "ax.set_ylabel('amplitude')\n",
    "\n",
    "ax.set_title('Sine wave')\n",
    "\n",
    "x=[1,2,3,4,5,6,7,8,9,10]\n",
    "y=[23,56,67,34,12,56,23,56,78,23]\n",
    "\n",
    "ax.plot(x,y, 'bs-.',linewidth=2,markersize=5,\n",
    "        markerfacecolor='red',\n",
    "        markeredgecolor='black',\n",
    "        markeredgewidth=1,\n",
    "        color='black',\n",
    "        marker='d',\n",
    "        alpha=.7\n",
    "        )\n",
    "# horizontal line\n",
    "ax.axhline(50, linewidth=2,color='black',alpha=.4)\n",
    "ax.axvline(3,linewidth=2,color='red',alpha=.4)\n",
    "ax.text(3.2,52,'above theshold')\n",
    "ax.text(3.2,46,'above theshold')\n",
    "# rectangle box\n",
    "ax.axvspan(3,6,color='red',alpha=.2)\n",
    "ax.axhspan(43,56,color='blue',alpha=.2)"
   ]
  },
  {
   "cell_type": "code",
   "execution_count": 211,
   "metadata": {},
   "outputs": [
    {
     "data": {
      "text/plain": [
       "Text(0.5, 1.0, 'Scatter plot')"
      ]
     },
     "execution_count": 211,
     "metadata": {},
     "output_type": "execute_result"
    },
    {
     "data": {
      "image/png": "[encoded data removed]",
      "text/plain": [
       "<Figure size 1000x500 with 2 Axes>"
      ]
     },
     "metadata": {},
     "output_type": "display_data"
    }
   ],
   "source": [
    "fig,(ax1,ax2)=plt.subplots(1,2,figsize=(10,5))\n",
    "x=np.arange(1,101)\n",
    "y=np.random.uniform(1,11,100)\n",
    "ax1.plot(x,y)\n",
    "ax2.scatter(x,y,s=100,c='blue',alpha=.4)\n",
    "ax1.set_title('line plot')\n",
    "ax1.set_title('Scatter plot')"
   ]
  },
  {
   "cell_type": "code",
   "execution_count": null,
   "metadata": {},
   "outputs": [],
   "source": []
  }
 ],
 "metadata": {
  "kernelspec": {
   "display_name": "base",
   "language": "python",
   "name": "python3"
  },
  "language_info": {
   "codemirror_mode": {
    "name": "ipython",
    "version": 3
   },
   "file_extension": ".py",
   "mimetype": "text/x-python",
   "name": "python",
   "nbconvert_exporter": "python",
   "pygments_lexer": "ipython3",
   "version": "3.12.3"
  }
 },
 "nbformat": 4,
 "nbformat_minor": 2
}
