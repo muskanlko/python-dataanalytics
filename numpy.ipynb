{
 "cells": [
  {
   "cell_type": "markdown",
   "metadata": {},
   "source": [
    "run on terminal"
   ]
  },
  {
   "cell_type": "markdown",
   "metadata": {},
   "source": [
    "# pip install numpy matplotlip"
   ]
  },
  {
   "cell_type": "code",
   "execution_count": 9,
   "metadata": {},
   "outputs": [
    {
     "name": "stdout",
     "output_type": "stream",
     "text": [
      "Collecting numpy\n",
      "  Downloading numpy-2.0.1-cp312-cp312-win_amd64.whl.metadata (60 kB)\n",
      "     ---------------------------------------- 0.0/60.9 kB ? eta -:--:--\n",
      "     ------ --------------------------------- 10.2/60.9 kB ? eta -:--:--\n",
      "     ------------------- ------------------ 30.7/60.9 kB 325.1 kB/s eta 0:00:01\n",
      "     ------------------------------- ------ 51.2/60.9 kB 435.7 kB/s eta 0:00:01\n",
      "     -------------------------------------- 60.9/60.9 kB 405.3 kB/s eta 0:00:00\n",
      "Downloading numpy-2.0.1-cp312-cp312-win_amd64.whl (16.3 MB)\n",
      "   ---------------------------------------- 0.0/16.3 MB ? eta -:--:--\n",
      "    --------------------------------------- 0.3/16.3 MB 8.6 MB/s eta 0:00:02\n",
      "   - -------------------------------------- 0.7/16.3 MB 7.8 MB/s eta 0:00:02\n",
      "   -- ------------------------------------- 0.9/16.3 MB 7.3 MB/s eta 0:00:03\n",
      "   -- ------------------------------------- 1.1/16.3 MB 6.3 MB/s eta 0:00:03\n",
      "   --- ------------------------------------ 1.2/16.3 MB 5.6 MB/s eta 0:00:03\n",
      "   --- ------------------------------------ 1.4/16.3 MB 5.3 MB/s eta 0:00:03\n",
      "   ---- ----------------------------------- 1.6/16.3 MB 5.2 MB/s eta 0:00:03\n",
      "   ---- ----------------------------------- 1.8/16.3 MB 4.8 MB/s eta 0:00:04\n",
      "   ---- ----------------------------------- 2.0/16.3 MB 4.8 MB/s eta 0:00:03\n",
      "   ----- ---------------------------------- 2.2/16.3 MB 4.7 MB/s eta 0:00:04\n",
      "   ----- ---------------------------------- 2.4/16.3 MB 4.5 MB/s eta 0:00:04\n",
      "   ------ --------------------------------- 2.6/16.3 MB 4.5 MB/s eta 0:00:04\n",
      "   ------ --------------------------------- 2.8/16.3 MB 4.4 MB/s eta 0:00:04\n",
      "   ------- -------------------------------- 3.0/16.3 MB 4.5 MB/s eta 0:00:03\n",
      "   ------- -------------------------------- 3.1/16.3 MB 4.4 MB/s eta 0:00:03\n",
      "   -------- ------------------------------- 3.3/16.3 MB 4.4 MB/s eta 0:00:03\n",
      "   -------- ------------------------------- 3.5/16.3 MB 4.3 MB/s eta 0:00:03\n",
      "   -------- ------------------------------- 3.6/16.3 MB 4.4 MB/s eta 0:00:03\n",
      "   --------- ------------------------------ 3.8/16.3 MB 4.3 MB/s eta 0:00:03\n",
      "   --------- ------------------------------ 4.0/16.3 MB 4.3 MB/s eta 0:00:03\n",
      "   ---------- ----------------------------- 4.2/16.3 MB 4.3 MB/s eta 0:00:03\n",
      "   ---------- ----------------------------- 4.3/16.3 MB 4.3 MB/s eta 0:00:03\n",
      "   ----------- ---------------------------- 4.5/16.3 MB 4.2 MB/s eta 0:00:03\n",
      "   ----------- ---------------------------- 4.7/16.3 MB 4.2 MB/s eta 0:00:03\n",
      "   ------------ --------------------------- 4.9/16.3 MB 4.2 MB/s eta 0:00:03\n",
      "   ------------ --------------------------- 5.1/16.3 MB 4.2 MB/s eta 0:00:03\n",
      "   ------------- -------------------------- 5.3/16.3 MB 4.2 MB/s eta 0:00:03\n",
      "   ------------- -------------------------- 5.5/16.3 MB 4.2 MB/s eta 0:00:03\n",
      "   ------------- -------------------------- 5.6/16.3 MB 4.1 MB/s eta 0:00:03\n",
      "   -------------- ------------------------- 5.8/16.3 MB 4.1 MB/s eta 0:00:03\n",
      "   -------------- ------------------------- 6.0/16.3 MB 4.1 MB/s eta 0:00:03\n",
      "   --------------- ------------------------ 6.2/16.3 MB 4.1 MB/s eta 0:00:03\n",
      "   --------------- ------------------------ 6.3/16.3 MB 4.1 MB/s eta 0:00:03\n",
      "   ---------------- ----------------------- 6.5/16.3 MB 4.1 MB/s eta 0:00:03\n",
      "   ---------------- ----------------------- 6.7/16.3 MB 4.1 MB/s eta 0:00:03\n",
      "   ---------------- ----------------------- 6.9/16.3 MB 4.1 MB/s eta 0:00:03\n",
      "   ---------------- ----------------------- 6.9/16.3 MB 4.1 MB/s eta 0:00:03\n",
      "   ---------------- ----------------------- 6.9/16.3 MB 4.1 MB/s eta 0:00:03\n",
      "   ------------------ --------------------- 7.4/16.3 MB 4.1 MB/s eta 0:00:03\n",
      "   ------------------ --------------------- 7.6/16.3 MB 4.1 MB/s eta 0:00:03\n",
      "   ------------------- -------------------- 7.8/16.3 MB 4.1 MB/s eta 0:00:03\n",
      "   ------------------- -------------------- 7.9/16.3 MB 4.1 MB/s eta 0:00:03\n",
      "   -------------------- ------------------- 8.1/16.3 MB 4.1 MB/s eta 0:00:03\n",
      "   -------------------- ------------------- 8.3/16.3 MB 4.1 MB/s eta 0:00:02\n",
      "   -------------------- ------------------- 8.5/16.3 MB 4.1 MB/s eta 0:00:02\n",
      "   --------------------- ------------------ 8.7/16.3 MB 4.0 MB/s eta 0:00:02\n",
      "   --------------------- ------------------ 8.9/16.3 MB 4.0 MB/s eta 0:00:02\n",
      "   ---------------------- ----------------- 9.1/16.3 MB 4.0 MB/s eta 0:00:02\n",
      "   ---------------------- ----------------- 9.3/16.3 MB 4.0 MB/s eta 0:00:02\n",
      "   ----------------------- ---------------- 9.4/16.3 MB 4.0 MB/s eta 0:00:02\n",
      "   ----------------------- ---------------- 9.6/16.3 MB 4.0 MB/s eta 0:00:02\n",
      "   ------------------------ --------------- 9.8/16.3 MB 4.0 MB/s eta 0:00:02\n",
      "   ------------------------ --------------- 10.0/16.3 MB 4.0 MB/s eta 0:00:02\n",
      "   ------------------------ --------------- 10.1/16.3 MB 4.0 MB/s eta 0:00:02\n",
      "   ------------------------- -------------- 10.3/16.3 MB 4.0 MB/s eta 0:00:02\n",
      "   ------------------------- -------------- 10.5/16.3 MB 4.0 MB/s eta 0:00:02\n",
      "   -------------------------- ------------- 10.6/16.3 MB 3.9 MB/s eta 0:00:02\n",
      "   -------------------------- ------------- 10.8/16.3 MB 3.9 MB/s eta 0:00:02\n",
      "   --------------------------- ------------ 11.0/16.3 MB 3.9 MB/s eta 0:00:02\n",
      "   ---------------------------- ----------- 11.5/16.3 MB 3.9 MB/s eta 0:00:02\n",
      "   ---------------------------- ----------- 11.7/16.3 MB 3.9 MB/s eta 0:00:02\n",
      "   ----------------------------- ---------- 11.8/16.3 MB 3.9 MB/s eta 0:00:02\n",
      "   ----------------------------- ---------- 12.0/16.3 MB 3.9 MB/s eta 0:00:02\n",
      "   ----------------------------- ---------- 12.2/16.3 MB 3.9 MB/s eta 0:00:02\n",
      "   ------------------------------ --------- 12.3/16.3 MB 3.9 MB/s eta 0:00:02\n",
      "   ------------------------------ --------- 12.5/16.3 MB 3.9 MB/s eta 0:00:01\n",
      "   ------------------------------- -------- 12.7/16.3 MB 3.9 MB/s eta 0:00:01\n",
      "   ------------------------------- -------- 12.9/16.3 MB 3.9 MB/s eta 0:00:01\n",
      "   -------------------------------- ------- 13.0/16.3 MB 3.9 MB/s eta 0:00:01\n",
      "   -------------------------------- ------- 13.2/16.3 MB 3.9 MB/s eta 0:00:01\n",
      "   -------------------------------- ------- 13.3/16.3 MB 3.9 MB/s eta 0:00:01\n",
      "   --------------------------------- ------ 13.5/16.3 MB 3.8 MB/s eta 0:00:01\n",
      "   --------------------------------- ------ 13.7/16.3 MB 3.9 MB/s eta 0:00:01\n",
      "   ---------------------------------- ----- 13.9/16.3 MB 3.8 MB/s eta 0:00:01\n",
      "   ---------------------------------- ----- 14.0/16.3 MB 3.8 MB/s eta 0:00:01\n",
      "   ---------------------------------- ----- 14.2/16.3 MB 3.9 MB/s eta 0:00:01\n",
      "   ----------------------------------- ---- 14.4/16.3 MB 3.9 MB/s eta 0:00:01\n",
      "   ----------------------------------- ---- 14.6/16.3 MB 3.9 MB/s eta 0:00:01\n",
      "   ------------------------------------ --- 14.8/16.3 MB 3.9 MB/s eta 0:00:01\n",
      "   ------------------------------------ --- 15.0/16.3 MB 3.9 MB/s eta 0:00:01\n",
      "   ------------------------------------- -- 15.2/16.3 MB 3.9 MB/s eta 0:00:01\n",
      "   ------------------------------------- -- 15.3/16.3 MB 3.9 MB/s eta 0:00:01\n",
      "   -------------------------------------- - 15.5/16.3 MB 3.9 MB/s eta 0:00:01\n",
      "   -------------------------------------- - 15.7/16.3 MB 3.9 MB/s eta 0:00:01\n",
      "   -------------------------------------- - 15.8/16.3 MB 3.9 MB/s eta 0:00:01\n",
      "   ---------------------------------------  16.0/16.3 MB 3.9 MB/s eta 0:00:01\n",
      "   ---------------------------------------  16.1/16.3 MB 3.9 MB/s eta 0:00:01\n",
      "   ---------------------------------------  16.3/16.3 MB 3.9 MB/s eta 0:00:01\n",
      "   ---------------------------------------- 16.3/16.3 MB 3.8 MB/s eta 0:00:00\n",
      "Installing collected packages: numpy\n",
      "Successfully installed numpy-2.0.1\n"
     ]
    }
   ],
   "source": [
    "!pip install numpy"
   ]
  },
  {
   "cell_type": "code",
   "execution_count": 10,
   "metadata": {},
   "outputs": [],
   "source": [
    "import numpy as np"
   ]
  },
  {
   "cell_type": "markdown",
   "metadata": {},
   "source": [
    "- create\n",
    "- basic operation\n",
    "- math operation\n",
    "- indexing and slicling \n",
    "- boolean filter\n"
   ]
  },
  {
   "cell_type": "code",
   "execution_count": 11,
   "metadata": {},
   "outputs": [],
   "source": [
    "x= np.array([1,2,3,4,5])"
   ]
  },
  {
   "cell_type": "code",
   "execution_count": 12,
   "metadata": {},
   "outputs": [
    {
     "name": "stdout",
     "output_type": "stream",
     "text": [
      "[[1 2 3]\n",
      " [4 5 6]]\n",
      "(2, 3)\n"
     ]
    }
   ],
   "source": [
    "a=np.array([[1,2,3,],[4,5,6,]])\n",
    "print(a)\n",
    "print(a.shape)"
   ]
  },
  {
   "cell_type": "code",
   "execution_count": 13,
   "metadata": {},
   "outputs": [
    {
     "name": "stdout",
     "output_type": "stream",
     "text": [
      "[[1 2 3]\n",
      " [4 5 6]\n",
      " [7 8 9]]\n",
      "(3, 3)\n"
     ]
    }
   ],
   "source": [
    "b=np.array([[1,2,3],[4,5,6],[7,8,9]])\n",
    "print(b)\n",
    "print(b.shape)"
   ]
  },
  {
   "cell_type": "code",
   "execution_count": 14,
   "metadata": {},
   "outputs": [
    {
     "name": "stdout",
     "output_type": "stream",
     "text": [
      "[[0 1 2 3 4 5 6 7 8 9]\n",
      " [0 1 2 3 4 5 6 7 8 9]\n",
      " [0 1 2 3 4 5 6 7 8 9]\n",
      " [0 1 2 3 4 5 6 7 8 9]\n",
      " [0 1 2 3 4 5 6 7 8 9]\n",
      " [0 1 2 3 4 5 6 7 8 9]\n",
      " [0 1 2 3 4 5 6 7 8 9]\n",
      " [0 1 2 3 4 5 6 7 8 9]\n",
      " [0 1 2 3 4 5 6 7 8 9]\n",
      " [0 1 2 3 4 5 6 7 8 9]]\n",
      "(10, 10)\n"
     ]
    }
   ],
   "source": [
    "z=[0,1,2,3,4,5,6,7,8,9]\n",
    "nz=np.array([z]*10)\n",
    "print(nz)\n",
    "print(nz.shape)"
   ]
  },
  {
   "cell_type": "markdown",
   "metadata": {},
   "source": [
    "- random\n",
    "- arrange\n",
    "- linspace\n"
   ]
  },
  {
   "cell_type": "code",
   "execution_count": 15,
   "metadata": {},
   "outputs": [
    {
     "data": {
      "text/plain": [
       "array([[0.73454445, 0.99385887, 0.08769399],\n",
       "       [0.57833736, 0.60489667, 0.49904653],\n",
       "       [0.89795177, 0.10050655, 0.5114786 ]])"
      ]
     },
     "execution_count": 15,
     "metadata": {},
     "output_type": "execute_result"
    }
   ],
   "source": [
    "np.random.rand(3,3)"
   ]
  },
  {
   "cell_type": "code",
   "execution_count": 16,
   "metadata": {},
   "outputs": [
    {
     "name": "stdout",
     "output_type": "stream",
     "text": [
      "[[ 4  2  5  3  3]\n",
      " [ 1  3  4  3 -4]\n",
      " [ 1 -1 -3 -4  2]\n",
      " [-5 -5  2  4 -3]\n",
      " [ 2 -4  4  5 -2]]\n"
     ]
    }
   ],
   "source": [
    "r1=np.random.randint(-5,6,(5,5))\n",
    "print(r1)"
   ]
  },
  {
   "cell_type": "code",
   "execution_count": 17,
   "metadata": {},
   "outputs": [
    {
     "data": {
      "text/plain": [
       "array([ 0. ,  0.5,  1. ,  1.5,  2. ,  2.5,  3. ,  3.5,  4. ,  4.5,  5. ,\n",
       "        5.5,  6. ,  6.5,  7. ,  7.5,  8. ,  8.5,  9. ,  9.5, 10. , 10.5,\n",
       "       11. , 11.5, 12. , 12.5, 13. , 13.5, 14. , 14.5, 15. , 15.5, 16. ,\n",
       "       16.5, 17. , 17.5, 18. , 18.5, 19. , 19.5, 20. , 20.5, 21. , 21.5,\n",
       "       22. , 22.5, 23. , 23.5, 24. , 24.5, 25. , 25.5, 26. , 26.5, 27. ,\n",
       "       27.5, 28. , 28.5, 29. , 29.5, 30. , 30.5, 31. , 31.5, 32. , 32.5,\n",
       "       33. , 33.5, 34. , 34.5, 35. , 35.5, 36. , 36.5, 37. , 37.5, 38. ,\n",
       "       38.5, 39. , 39.5, 40. , 40.5, 41. , 41.5, 42. , 42.5, 43. , 43.5,\n",
       "       44. , 44.5, 45. , 45.5, 46. , 46.5, 47. , 47.5, 48. , 48.5, 49. ,\n",
       "       49.5])"
      ]
     },
     "execution_count": 17,
     "metadata": {},
     "output_type": "execute_result"
    }
   ],
   "source": [
    "#start,stop,gap\n",
    "np.arange(0,50,.5)"
   ]
  },
  {
   "cell_type": "code",
   "execution_count": 19,
   "metadata": {},
   "outputs": [
    {
     "data": {
      "text/plain": [
       "array([ 0.        ,  5.55555556, 11.11111111, 16.66666667, 22.22222222,\n",
       "       27.77777778, 33.33333333, 38.88888889, 44.44444444, 50.        ])"
      ]
     },
     "execution_count": 19,
     "metadata": {},
     "output_type": "execute_result"
    }
   ],
   "source": [
    "#start,stop,number_of_item\n",
    "np.linspace(0,50,10)"
   ]
  },
  {
   "cell_type": "markdown",
   "metadata": {},
   "source": [
    "array attributes\n",
    "- shape\n",
    "- dtype\n",
    "- ndim\n",
    "- size\n",
    "\n",
    "basic operation\n",
    "- sun\n",
    "- mean\n",
    "- min\n",
    "- max\n",
    "- std\n",
    "- reshape\n",
    "- transpose\n",
    "- flatten\n"
   ]
  },
  {
   "cell_type": "code",
   "execution_count": 20,
   "metadata": {},
   "outputs": [
    {
     "data": {
      "text/plain": [
       "dtype('int64')"
      ]
     },
     "execution_count": 20,
     "metadata": {},
     "output_type": "execute_result"
    }
   ],
   "source": [
    "x.dtype"
   ]
  },
  {
   "cell_type": "code",
   "execution_count": 21,
   "metadata": {},
   "outputs": [
    {
     "data": {
      "text/plain": [
       "dtype('float64')"
      ]
     },
     "execution_count": 21,
     "metadata": {},
     "output_type": "execute_result"
    }
   ],
   "source": [
    "x=np.random.rand(3,3)\n",
    "x.dtype"
   ]
  },
  {
   "cell_type": "code",
   "execution_count": 22,
   "metadata": {},
   "outputs": [
    {
     "data": {
      "text/plain": [
       "2"
      ]
     },
     "execution_count": 22,
     "metadata": {},
     "output_type": "execute_result"
    }
   ],
   "source": [
    "x.ndim"
   ]
  },
  {
   "cell_type": "code",
   "execution_count": 25,
   "metadata": {},
   "outputs": [
    {
     "data": {
      "text/plain": [
       "3"
      ]
     },
     "execution_count": 25,
     "metadata": {},
     "output_type": "execute_result"
    }
   ],
   "source": [
    "z = np.random.randint(1,5,(3,3,3))\n",
    "z.ndim"
   ]
  },
  {
   "cell_type": "code",
   "execution_count": 27,
   "metadata": {},
   "outputs": [
    {
     "data": {
      "text/plain": [
       "27"
      ]
     },
     "execution_count": 27,
     "metadata": {},
     "output_type": "execute_result"
    }
   ],
   "source": [
    "z.size"
   ]
  },
  {
   "cell_type": "code",
   "execution_count": 28,
   "metadata": {},
   "outputs": [
    {
     "data": {
      "text/plain": [
       "np.int64(68)"
      ]
     },
     "execution_count": 28,
     "metadata": {},
     "output_type": "execute_result"
    }
   ],
   "source": [
    "z.sum()"
   ]
  },
  {
   "cell_type": "code",
   "execution_count": 26,
   "metadata": {},
   "outputs": [
    {
     "name": "stdout",
     "output_type": "stream",
     "text": [
      "3.510919591750044\n",
      "[1.47494217 0.93526988 1.10070754]\n",
      "[1.7476693  1.76325029]\n",
      "0.585153265291674\n",
      "0.933086562931657\n",
      "0.16762097965158995\n",
      "0.29348142898539786\n",
      "0.08613134915931114\n"
     ]
    }
   ],
   "source": [
    "a=np.random.rand(2,3)\n",
    "print(a.sum())\n",
    "print(a.sum(axis=0))#sum of column -wise\n",
    "print(a.sum(axis=1))# sum of row -wise\n",
    "\n",
    "print(a.mean())\n",
    "print(a.max())\n",
    "print(a.min())\n",
    "print(a.std())\n",
    "print(a.var())\n",
    "# all the method can be used with axis"
   ]
  },
  {
   "cell_type": "code",
   "execution_count": 29,
   "metadata": {},
   "outputs": [
    {
     "name": "stdout",
     "output_type": "stream",
     "text": [
      "[[89 95 33 25 61]\n",
      " [47 62 30 22 71]\n",
      " [57 48 26 64 21]\n",
      " [21 64 69 70 56]\n",
      " [55 38 18 31 78]]\n",
      "transpose\n",
      "[[89 47 57 21 55]\n",
      " [95 62 48 64 38]\n",
      " [33 30 26 69 18]\n",
      " [25 22 64 70 31]\n",
      " [61 71 21 56 78]]\n",
      "flattened\n",
      "[89 95 33 25 61 47 62 30 22 71 57 48 26 64 21 21 64 69 70 56 55 38 18 31\n",
      " 78]\n"
     ]
    }
   ],
   "source": [
    "z=np.random.randint(11,99,(5,5))\n",
    "print(z)\n",
    "print('transpose')\n",
    "print(z.transpose())# or print(z.t)\n",
    "print('flattened')\n",
    "print(z.flatten())"
   ]
  },
  {
   "cell_type": "code",
   "execution_count": 34,
   "metadata": {},
   "outputs": [
    {
     "name": "stdout",
     "output_type": "stream",
     "text": [
      "[[3 9 6 7 7]\n",
      " [6 5 8 9 6]\n",
      " [3 3 7 4 7]\n",
      " [9 9 3 7 7]]\n",
      "[3 9 6 7 7 6 5 8 9 6 3 3 7 4 7 9 9 3 7 7]\n",
      "[[3 9 6 7]\n",
      " [7 6 5 8]\n",
      " [9 6 3 3]\n",
      " [7 4 7 9]\n",
      " [9 3 7 7]]\n",
      "[[3 9 6 7 7 6 5 8 9 6]\n",
      " [3 3 7 4 7 9 9 3 7 7]]\n",
      "[[3 9]\n",
      " [6 7]\n",
      " [7 6]\n",
      " [5 8]\n",
      " [9 6]\n",
      " [3 3]\n",
      " [7 4]\n",
      " [7 9]\n",
      " [9 3]\n",
      " [7 7]]\n",
      "[[[3 9]\n",
      "  [6 7]]\n",
      "\n",
      " [[7 6]\n",
      "  [5 8]]\n",
      "\n",
      " [[9 6]\n",
      "  [3 3]]\n",
      "\n",
      " [[7 4]\n",
      "  [7 9]]\n",
      "\n",
      " [[9 3]\n",
      "  [7 7]]]\n"
     ]
    }
   ],
   "source": [
    "a=np.random.randint(1,10, (4,5))\n",
    "print(a)\n",
    "print(a.reshape(20))\n",
    "print(a.reshape(5,4))\n",
    "print(a.reshape(2,10))\n",
    "print(a.reshape(10,2))\n",
    "print(a.reshape(5,2,2))\n"
   ]
  },
  {
   "cell_type": "code",
   "execution_count": 35,
   "metadata": {},
   "outputs": [
    {
     "name": "stdout",
     "output_type": "stream",
     "text": [
      "[[1 2]\n",
      " [3 4]]\n",
      "[[6 2]\n",
      " [6 3]]\n"
     ]
    }
   ],
   "source": [
    "a=np.array([[1,2],[3,4]])\n",
    "b=np.array([[6,2],[6,3]])\n",
    "print(a)\n",
    "print(b)"
   ]
  },
  {
   "cell_type": "code",
   "execution_count": 36,
   "metadata": {},
   "outputs": [
    {
     "name": "stdout",
     "output_type": "stream",
     "text": [
      "[[7 4]\n",
      " [9 7]]\n",
      "[[-5  0]\n",
      " [-3  1]]\n",
      "[[0.16666667 1.        ]\n",
      " [0.5        1.33333333]]\n",
      "[[ 6  4]\n",
      " [18 12]]\n",
      "[[18  8]\n",
      " [42 18]]\n",
      "[[18  8]\n",
      " [42 18]]\n"
     ]
    }
   ],
   "source": [
    "# when using 2 matrix the shape \n",
    "print(a+b)\n",
    "print(a-b)\n",
    "print(a/b)\n",
    "print(a*b)\n",
    "print(a@b)\n",
    "print(a.dot(b))\n"
   ]
  },
  {
   "cell_type": "code",
   "execution_count": null,
   "metadata": {},
   "outputs": [],
   "source": [
    "# when using matrix and scalar\n",
    "print(a+10)# broadcasting\n",
    "print(a*10)# broadcasting\n",
    "print(a/10)\n",
    "print(a-10)"
   ]
  },
  {
   "cell_type": "code",
   "execution_count": 39,
   "metadata": {},
   "outputs": [
    {
     "name": "stdout",
     "output_type": "stream",
     "text": [
      "1\n",
      "4\n"
     ]
    }
   ],
   "source": [
    "# indexing\n",
    "print(a[0,0])\n",
    "print(a[-1,-1])"
   ]
  },
  {
   "cell_type": "code",
   "execution_count": 46,
   "metadata": {},
   "outputs": [
    {
     "name": "stdout",
     "output_type": "stream",
     "text": [
      "[[8 5 1 5 5]\n",
      " [2 1 5 7 6]\n",
      " [3 8 6 3 8]\n",
      " [4 4 4 5 9]\n",
      " [7 2 4 9 1]]\n",
      "[8 2 3 4 7]\n",
      "[5 6 8 9 1]\n",
      "[[8 5 1]\n",
      " [2 1 5]\n",
      " [3 8 6]\n",
      " [4 4 4]\n",
      " [7 2 4]]\n",
      "[[8 5 1 5]\n",
      " [2 1 5 7]\n",
      " [3 8 6 3]\n",
      " [4 4 4 5]]\n"
     ]
    }
   ],
   "source": [
    "#slicing\n",
    "x=np.random.randint(1,10,(5,5))\n",
    "print(x)\n",
    "print(x[:,0])\n",
    "print(x[:,-1])\n",
    "print(x[:,:3])\n",
    "print(x[:-1,:-1])"
   ]
  },
  {
   "cell_type": "code",
   "execution_count": null,
   "metadata": {},
   "outputs": [],
   "source": [
    "\n"
   ]
  }
 ],
 "metadata": {
  "kernelspec": {
   "display_name": "base",
   "language": "python",
   "name": "python3"
  },
  "language_info": {
   "codemirror_mode": {
    "name": "ipython",
    "version": 3
   },
   "file_extension": ".py",
   "mimetype": "text/x-python",
   "name": "python",
   "nbconvert_exporter": "python",
   "pygments_lexer": "ipython3",
   "version": "3.12.3"
  }
 },
 "nbformat": 4,
 "nbformat_minor": 2
}
